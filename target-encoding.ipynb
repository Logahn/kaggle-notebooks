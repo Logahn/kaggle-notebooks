{
 "cells": [
  {
   "cell_type": "markdown",
   "id": "ae57dc78",
   "metadata": {
    "papermill": {
     "duration": 0.006469,
     "end_time": "2024-06-20T08:22:36.484721",
     "exception": false,
     "start_time": "2024-06-20T08:22:36.478252",
     "status": "completed"
    },
    "tags": []
   },
   "source": [
    "**This notebook is an exercise in the [Feature Engineering](https://www.kaggle.com/learn/feature-engineering) course.  You can reference the tutorial at [this link](https://www.kaggle.com/ryanholbrook/target-encoding).**\n",
    "\n",
    "---\n"
   ]
  },
  {
   "cell_type": "markdown",
   "id": "15a523c1",
   "metadata": {
    "papermill": {
     "duration": 0.005988,
     "end_time": "2024-06-20T08:22:36.496843",
     "exception": false,
     "start_time": "2024-06-20T08:22:36.490855",
     "status": "completed"
    },
    "tags": []
   },
   "source": [
    "# Introduction #\n",
    "\n",
    "In this exercise, you'll apply target encoding to features in the [*Ames*](https://www.kaggle.com/c/house-prices-advanced-regression-techniques/data) dataset.\n",
    "\n",
    "Run this cell to set everything up!"
   ]
  },
  {
   "cell_type": "code",
   "execution_count": 1,
   "id": "9fdd0d1c",
   "metadata": {
    "execution": {
     "iopub.execute_input": "2024-06-20T08:22:36.510419Z",
     "iopub.status.busy": "2024-06-20T08:22:36.510018Z",
     "iopub.status.idle": "2024-06-20T08:22:39.891812Z",
     "shell.execute_reply": "2024-06-20T08:22:39.890805Z"
    },
    "papermill": {
     "duration": 3.39152,
     "end_time": "2024-06-20T08:22:39.894312",
     "exception": false,
     "start_time": "2024-06-20T08:22:36.502792",
     "status": "completed"
    },
    "tags": []
   },
   "outputs": [
    {
     "name": "stderr",
     "output_type": "stream",
     "text": [
      "/tmp/ipykernel_18/3788892820.py:16: MatplotlibDeprecationWarning: The seaborn styles shipped by Matplotlib are deprecated since 3.6, as they no longer correspond to the styles shipped by seaborn. However, they will remain available as 'seaborn-v0_8-<style>'. Alternatively, directly use the seaborn API instead.\n",
      "  plt.style.use(\"seaborn-whitegrid\")\n"
     ]
    }
   ],
   "source": [
    "# Setup feedback system\n",
    "from learntools.core import binder\n",
    "binder.bind(globals())\n",
    "from learntools.feature_engineering_new.ex6 import *\n",
    "\n",
    "import matplotlib.pyplot as plt\n",
    "import numpy as np\n",
    "import pandas as pd\n",
    "import seaborn as sns\n",
    "import warnings\n",
    "from category_encoders import MEstimateEncoder\n",
    "from sklearn.model_selection import cross_val_score\n",
    "from xgboost import XGBRegressor\n",
    "\n",
    "# Set Matplotlib defaults\n",
    "plt.style.use(\"seaborn-whitegrid\")\n",
    "plt.rc(\"figure\", autolayout=True)\n",
    "plt.rc(\n",
    "    \"axes\",\n",
    "    labelweight=\"bold\",\n",
    "    labelsize=\"large\",\n",
    "    titleweight=\"bold\",\n",
    "    titlesize=14,\n",
    "    titlepad=10,\n",
    ")\n",
    "warnings.filterwarnings('ignore')\n",
    "\n",
    "\n",
    "def score_dataset(X, y, model=XGBRegressor()):\n",
    "    # Label encoding for categoricals\n",
    "    for colname in X.select_dtypes([\"category\", \"object\"]):\n",
    "        X[colname], _ = X[colname].factorize()\n",
    "    # Metric for Housing competition is RMSLE (Root Mean Squared Log Error)\n",
    "    score = cross_val_score(\n",
    "        model, X, y, cv=5, scoring=\"neg_mean_squared_log_error\",\n",
    "    )\n",
    "    score = -1 * score.mean()\n",
    "    score = np.sqrt(score)\n",
    "    return score\n",
    "\n",
    "\n",
    "df = pd.read_csv(\"../input/fe-course-data/ames.csv\")"
   ]
  },
  {
   "cell_type": "markdown",
   "id": "2d1a1deb",
   "metadata": {
    "papermill": {
     "duration": 0.005721,
     "end_time": "2024-06-20T08:22:39.906785",
     "exception": false,
     "start_time": "2024-06-20T08:22:39.901064",
     "status": "completed"
    },
    "tags": []
   },
   "source": [
    "-------------------------------------------------------------------------------\n",
    "\n",
    "First you'll need to choose which features you want to apply a target encoding to. Categorical features with a large number of categories are often good candidates. Run this cell to see how many categories each categorical feature in the *Ames* dataset has."
   ]
  },
  {
   "cell_type": "code",
   "execution_count": 2,
   "id": "a8377ede",
   "metadata": {
    "execution": {
     "iopub.execute_input": "2024-06-20T08:22:39.920388Z",
     "iopub.status.busy": "2024-06-20T08:22:39.919980Z",
     "iopub.status.idle": "2024-06-20T08:22:39.952770Z",
     "shell.execute_reply": "2024-06-20T08:22:39.951623Z"
    },
    "papermill": {
     "duration": 0.042297,
     "end_time": "2024-06-20T08:22:39.955010",
     "exception": false,
     "start_time": "2024-06-20T08:22:39.912713",
     "status": "completed"
    },
    "tags": []
   },
   "outputs": [
    {
     "data": {
      "text/plain": [
       "MSSubClass       16\n",
       "MSZoning          7\n",
       "Street            2\n",
       "Alley             3\n",
       "LotShape          4\n",
       "LandContour       4\n",
       "Utilities         3\n",
       "LotConfig         5\n",
       "LandSlope         3\n",
       "Neighborhood     28\n",
       "Condition1        9\n",
       "Condition2        8\n",
       "BldgType          5\n",
       "HouseStyle        8\n",
       "OverallQual      10\n",
       "OverallCond       9\n",
       "RoofStyle         6\n",
       "RoofMatl          8\n",
       "Exterior1st      16\n",
       "Exterior2nd      17\n",
       "MasVnrType        4\n",
       "ExterQual         4\n",
       "ExterCond         5\n",
       "Foundation        6\n",
       "BsmtQual          6\n",
       "BsmtCond          6\n",
       "BsmtExposure      5\n",
       "BsmtFinType1      7\n",
       "BsmtFinType2      7\n",
       "Heating           6\n",
       "HeatingQC         5\n",
       "CentralAir        2\n",
       "Electrical        6\n",
       "KitchenQual       5\n",
       "Functional        8\n",
       "FireplaceQu       6\n",
       "GarageType        7\n",
       "GarageFinish      4\n",
       "GarageQual        6\n",
       "GarageCond        6\n",
       "PavedDrive        3\n",
       "PoolQC            5\n",
       "Fence             5\n",
       "MiscFeature       5\n",
       "SaleType         10\n",
       "SaleCondition     6\n",
       "dtype: int64"
      ]
     },
     "execution_count": 2,
     "metadata": {},
     "output_type": "execute_result"
    }
   ],
   "source": [
    "df.select_dtypes([\"object\"]).nunique()"
   ]
  },
  {
   "cell_type": "markdown",
   "id": "ef0131bd",
   "metadata": {
    "papermill": {
     "duration": 0.005828,
     "end_time": "2024-06-20T08:22:39.967077",
     "exception": false,
     "start_time": "2024-06-20T08:22:39.961249",
     "status": "completed"
    },
    "tags": []
   },
   "source": [
    "We talked about how the M-estimate encoding uses smoothing to improve estimates for rare categories. To see how many times a category occurs in the dataset, you can use the `value_counts` method. This cell shows the counts for `SaleType`, but you might want to consider others as well."
   ]
  },
  {
   "cell_type": "code",
   "execution_count": 3,
   "id": "23a1035f",
   "metadata": {
    "execution": {
     "iopub.execute_input": "2024-06-20T08:22:39.980862Z",
     "iopub.status.busy": "2024-06-20T08:22:39.980464Z",
     "iopub.status.idle": "2024-06-20T08:22:39.991934Z",
     "shell.execute_reply": "2024-06-20T08:22:39.990970Z"
    },
    "papermill": {
     "duration": 0.020797,
     "end_time": "2024-06-20T08:22:39.994044",
     "exception": false,
     "start_time": "2024-06-20T08:22:39.973247",
     "status": "completed"
    },
    "tags": []
   },
   "outputs": [
    {
     "data": {
      "text/plain": [
       "SaleType\n",
       "WD       2536\n",
       "New       239\n",
       "COD        87\n",
       "ConLD      26\n",
       "CWD        12\n",
       "ConLI       9\n",
       "ConLw       8\n",
       "Oth         7\n",
       "Con         5\n",
       "VWD         1\n",
       "Name: count, dtype: int64"
      ]
     },
     "execution_count": 3,
     "metadata": {},
     "output_type": "execute_result"
    }
   ],
   "source": [
    "df[\"SaleType\"].value_counts()"
   ]
  },
  {
   "cell_type": "markdown",
   "id": "41a92896",
   "metadata": {
    "papermill": {
     "duration": 0.006011,
     "end_time": "2024-06-20T08:22:40.006316",
     "exception": false,
     "start_time": "2024-06-20T08:22:40.000305",
     "status": "completed"
    },
    "tags": []
   },
   "source": [
    "# 1) Choose Features for Encoding\n",
    "\n",
    "Which features did you identify for target encoding? After you've thought about your answer, run the next cell for some discussion."
   ]
  },
  {
   "cell_type": "code",
   "execution_count": 4,
   "id": "bf1db9ea",
   "metadata": {
    "execution": {
     "iopub.execute_input": "2024-06-20T08:22:40.020199Z",
     "iopub.status.busy": "2024-06-20T08:22:40.019801Z",
     "iopub.status.idle": "2024-06-20T08:22:40.029000Z",
     "shell.execute_reply": "2024-06-20T08:22:40.027935Z"
    },
    "papermill": {
     "duration": 0.018727,
     "end_time": "2024-06-20T08:22:40.031162",
     "exception": false,
     "start_time": "2024-06-20T08:22:40.012435",
     "status": "completed"
    },
    "tags": []
   },
   "outputs": [
    {
     "data": {
      "application/javascript": [
       "parent.postMessage({\"jupyterEvent\": \"custom.exercise_interaction\", \"data\": {\"outcomeType\": 1, \"valueTowardsCompletion\": 0.3333333333333333, \"interactionType\": 1, \"questionType\": 4, \"questionId\": \"1_Q1\", \"learnToolsVersion\": \"0.3.4\", \"failureMessage\": \"\", \"exceptionClass\": \"\", \"trace\": \"\"}}, \"*\")"
      ],
      "text/plain": [
       "<IPython.core.display.Javascript object>"
      ]
     },
     "metadata": {},
     "output_type": "display_data"
    },
    {
     "data": {
      "text/markdown": [
       "<span style=\"color:#33cc33\">Correct:</span> \n",
       "\n",
       " The `Neighborhood` feature looks promising. It has the most categories of any feature, and several categories are rare. Others that could be worth considering are `SaleType`, `MSSubClass`, `Exterior1st`, `Exterior2nd`. In fact, almost any of the nominal features would be worth trying because of the prevalence of rare categories."
      ],
      "text/plain": [
       "Correct: \n",
       "\n",
       " The `Neighborhood` feature looks promising. It has the most categories of any feature, and several categories are rare. Others that could be worth considering are `SaleType`, `MSSubClass`, `Exterior1st`, `Exterior2nd`. In fact, almost any of the nominal features would be worth trying because of the prevalence of rare categories."
      ]
     },
     "metadata": {},
     "output_type": "display_data"
    }
   ],
   "source": [
    "# View the solution (Run this cell to receive credit!)\n",
    "q_1.check()"
   ]
  },
  {
   "cell_type": "markdown",
   "id": "d473f656",
   "metadata": {
    "papermill": {
     "duration": 0.006255,
     "end_time": "2024-06-20T08:22:40.044226",
     "exception": false,
     "start_time": "2024-06-20T08:22:40.037971",
     "status": "completed"
    },
    "tags": []
   },
   "source": [
    "-------------------------------------------------------------------------------\n",
    "\n",
    "Now you'll apply a target encoding to your choice of feature. As we discussed in the tutorial, to avoid overfitting, we need to fit the encoder on data heldout from the training set. Run this cell to create the encoding and training splits:"
   ]
  },
  {
   "cell_type": "code",
   "execution_count": 5,
   "id": "80c6f13b",
   "metadata": {
    "execution": {
     "iopub.execute_input": "2024-06-20T08:22:40.058836Z",
     "iopub.status.busy": "2024-06-20T08:22:40.058458Z",
     "iopub.status.idle": "2024-06-20T08:22:40.075179Z",
     "shell.execute_reply": "2024-06-20T08:22:40.074031Z"
    },
    "lines_to_next_cell": 2,
    "papermill": {
     "duration": 0.026874,
     "end_time": "2024-06-20T08:22:40.077644",
     "exception": false,
     "start_time": "2024-06-20T08:22:40.050770",
     "status": "completed"
    },
    "tags": []
   },
   "outputs": [],
   "source": [
    "# Encoding split\n",
    "X_encode = df.sample(frac=0.20, random_state=0)\n",
    "y_encode = X_encode.pop(\"SalePrice\")\n",
    "\n",
    "# Training split\n",
    "X_pretrain = df.drop(X_encode.index)\n",
    "y_train = X_pretrain.pop(\"SalePrice\")"
   ]
  },
  {
   "cell_type": "markdown",
   "id": "cf842c15",
   "metadata": {
    "papermill": {
     "duration": 0.006571,
     "end_time": "2024-06-20T08:22:40.091149",
     "exception": false,
     "start_time": "2024-06-20T08:22:40.084578",
     "status": "completed"
    },
    "tags": []
   },
   "source": [
    "# 2) Apply M-Estimate Encoding\n",
    "\n",
    "Apply a target encoding to your choice of categorical features. Also choose a value for the smoothing parameter `m` (any value is okay for a correct answer)."
   ]
  },
  {
   "cell_type": "code",
   "execution_count": 6,
   "id": "16039caa",
   "metadata": {
    "execution": {
     "iopub.execute_input": "2024-06-20T08:22:40.105885Z",
     "iopub.status.busy": "2024-06-20T08:22:40.105488Z",
     "iopub.status.idle": "2024-06-20T08:22:40.179316Z",
     "shell.execute_reply": "2024-06-20T08:22:40.178282Z"
    },
    "lines_to_next_cell": 0,
    "papermill": {
     "duration": 0.08375,
     "end_time": "2024-06-20T08:22:40.181476",
     "exception": false,
     "start_time": "2024-06-20T08:22:40.097726",
     "status": "completed"
    },
    "tags": []
   },
   "outputs": [
    {
     "data": {
      "application/javascript": [
       "parent.postMessage({\"jupyterEvent\": \"custom.exercise_interaction\", \"data\": {\"outcomeType\": 1, \"valueTowardsCompletion\": 0.3333333333333333, \"interactionType\": 1, \"questionType\": 2, \"questionId\": \"2_Q2\", \"learnToolsVersion\": \"0.3.4\", \"failureMessage\": \"\", \"exceptionClass\": \"\", \"trace\": \"\"}}, \"*\")"
      ],
      "text/plain": [
       "<IPython.core.display.Javascript object>"
      ]
     },
     "metadata": {},
     "output_type": "display_data"
    },
    {
     "data": {
      "text/markdown": [
       "<span style=\"color:#33cc33\">Correct</span>"
      ],
      "text/plain": [
       "Correct"
      ]
     },
     "metadata": {},
     "output_type": "display_data"
    }
   ],
   "source": [
    "# YOUR CODE HERE: Create the MEstimateEncoder\n",
    "\n",
    "encoder = MEstimateEncoder(cols=[\"Neighborhood\"], m=50)\n",
    "\n",
    "# Fit the encoder on the encoding split.\n",
    "encoder.fit(X_encode, y_encode)\n",
    "\n",
    "# Encode the training split\n",
    "X_train = encoder.transform(X_pretrain, y_train)\n",
    "\n",
    "\n",
    "# Check your answer\n",
    "q_2.check()"
   ]
  },
  {
   "cell_type": "code",
   "execution_count": 7,
   "id": "51d2eae8",
   "metadata": {
    "execution": {
     "iopub.execute_input": "2024-06-20T08:22:40.196835Z",
     "iopub.status.busy": "2024-06-20T08:22:40.196428Z",
     "iopub.status.idle": "2024-06-20T08:22:40.204763Z",
     "shell.execute_reply": "2024-06-20T08:22:40.203733Z"
    },
    "lines_to_next_cell": 0,
    "papermill": {
     "duration": 0.018639,
     "end_time": "2024-06-20T08:22:40.206931",
     "exception": false,
     "start_time": "2024-06-20T08:22:40.188292",
     "status": "completed"
    },
    "tags": []
   },
   "outputs": [
    {
     "data": {
      "application/javascript": [
       "parent.postMessage({\"jupyterEvent\": \"custom.exercise_interaction\", \"data\": {\"interactionType\": 3, \"questionType\": 2, \"questionId\": \"2_Q2\", \"learnToolsVersion\": \"0.3.4\", \"valueTowardsCompletion\": 0.0, \"failureMessage\": \"\", \"exceptionClass\": \"\", \"trace\": \"\", \"outcomeType\": 4}}, \"*\")"
      ],
      "text/plain": [
       "<IPython.core.display.Javascript object>"
      ]
     },
     "metadata": {},
     "output_type": "display_data"
    },
    {
     "data": {
      "text/markdown": [
       "<span style=\"color:#33cc99\">Solution:</span> \n",
       "```python\n",
       "\n",
       "encoder = MEstimateEncoder(\n",
       "    cols=[\"Neighborhood\"],\n",
       "    m=1.0,\n",
       ")\n",
       "\n",
       "\n",
       "# Fit the encoder on the encoding split\n",
       "encoder.fit(X_encode, y_encode)\n",
       "\n",
       "# Encode the training split\n",
       "X_train = encoder.transform(X_pretrain, y_train)\n",
       "\n",
       "```"
      ],
      "text/plain": [
       "Solution: \n",
       "```python\n",
       "\n",
       "encoder = MEstimateEncoder(\n",
       "    cols=[\"Neighborhood\"],\n",
       "    m=1.0,\n",
       ")\n",
       "\n",
       "\n",
       "# Fit the encoder on the encoding split\n",
       "encoder.fit(X_encode, y_encode)\n",
       "\n",
       "# Encode the training split\n",
       "X_train = encoder.transform(X_pretrain, y_train)\n",
       "\n",
       "```"
      ]
     },
     "metadata": {},
     "output_type": "display_data"
    }
   ],
   "source": [
    "# Lines below will give you a hint or solution code\n",
    "#q_2.hint()\n",
    "q_2.solution()"
   ]
  },
  {
   "cell_type": "markdown",
   "id": "f5f9d960",
   "metadata": {
    "papermill": {
     "duration": 0.006678,
     "end_time": "2024-06-20T08:22:40.220744",
     "exception": false,
     "start_time": "2024-06-20T08:22:40.214066",
     "status": "completed"
    },
    "tags": []
   },
   "source": [
    "If you'd like to see how the encoded feature compares to the target, you can run this cell:"
   ]
  },
  {
   "cell_type": "code",
   "execution_count": 8,
   "id": "ac124232",
   "metadata": {
    "execution": {
     "iopub.execute_input": "2024-06-20T08:22:40.236980Z",
     "iopub.status.busy": "2024-06-20T08:22:40.236584Z",
     "iopub.status.idle": "2024-06-20T08:22:40.726847Z",
     "shell.execute_reply": "2024-06-20T08:22:40.725669Z"
    },
    "papermill": {
     "duration": 0.501136,
     "end_time": "2024-06-20T08:22:40.729349",
     "exception": false,
     "start_time": "2024-06-20T08:22:40.228213",
     "status": "completed"
    },
    "tags": []
   },
   "outputs": [
    {
     "data": {
      "image/png": "[encoded data removed]",
      "text/plain": [
       "<Figure size 576x432 with 1 Axes>"
      ]
     },
     "metadata": {},
     "output_type": "display_data"
    }
   ],
   "source": [
    "feature = encoder.cols\n",
    "\n",
    "plt.figure(dpi=90)\n",
    "ax = sns.distplot(y_train, kde=True, hist=False)\n",
    "ax = sns.distplot(X_train[feature], color='r', ax=ax, hist=True, kde=False, norm_hist=True)\n",
    "ax.set_xlabel(\"SalePrice\");"
   ]
  },
  {
   "cell_type": "markdown",
   "id": "c8f5a310",
   "metadata": {
    "papermill": {
     "duration": 0.007309,
     "end_time": "2024-06-20T08:22:40.744157",
     "exception": false,
     "start_time": "2024-06-20T08:22:40.736848",
     "status": "completed"
    },
    "tags": []
   },
   "source": [
    "From the distribution plots, does it seem like the encoding is informative?\n",
    "\n",
    "And this cell will show you the score of the encoded set compared to the original set:"
   ]
  },
  {
   "cell_type": "code",
   "execution_count": 9,
   "id": "10311403",
   "metadata": {
    "execution": {
     "iopub.execute_input": "2024-06-20T08:22:40.761216Z",
     "iopub.status.busy": "2024-06-20T08:22:40.760800Z",
     "iopub.status.idle": "2024-06-20T08:22:44.927477Z",
     "shell.execute_reply": "2024-06-20T08:22:44.926651Z"
    },
    "papermill": {
     "duration": 4.177608,
     "end_time": "2024-06-20T08:22:44.929663",
     "exception": false,
     "start_time": "2024-06-20T08:22:40.752055",
     "status": "completed"
    },
    "tags": []
   },
   "outputs": [
    {
     "name": "stdout",
     "output_type": "stream",
     "text": [
      "Baseline Score: 0.1434 RMSLE\n",
      "Score with Encoding: 0.1380 RMSLE\n"
     ]
    }
   ],
   "source": [
    "X = df.copy()\n",
    "y = X.pop(\"SalePrice\")\n",
    "score_base = score_dataset(X, y)\n",
    "score_new = score_dataset(X_train, y_train)\n",
    "\n",
    "print(f\"Baseline Score: {score_base:.4f} RMSLE\")\n",
    "print(f\"Score with Encoding: {score_new:.4f} RMSLE\")"
   ]
  },
  {
   "cell_type": "markdown",
   "id": "cdae862a",
   "metadata": {
    "papermill": {
     "duration": 0.007238,
     "end_time": "2024-06-20T08:22:44.944624",
     "exception": false,
     "start_time": "2024-06-20T08:22:44.937386",
     "status": "completed"
    },
    "tags": []
   },
   "source": [
    "Do you think that target encoding was worthwhile in this case? Depending on which feature or features you chose, you may have ended up with a score significantly worse than the baseline. In that case, it's likely the extra information gained by the encoding couldn't make up for the loss of data used for the encoding."
   ]
  },
  {
   "cell_type": "markdown",
   "id": "6e5a11a7",
   "metadata": {
    "papermill": {
     "duration": 0.007254,
     "end_time": "2024-06-20T08:22:44.959402",
     "exception": false,
     "start_time": "2024-06-20T08:22:44.952148",
     "status": "completed"
    },
    "tags": []
   },
   "source": [
    "-------------------------------------------------------------------------------\n",
    "\n",
    "In this question, you'll explore the problem of overfitting with target encodings. This will illustrate this importance of training fitting target encoders on data held-out from the training set.\n",
    "\n",
    "So let's see what happens when we fit the encoder and the model on the *same* dataset. To emphasize how dramatic the overfitting can be, we'll mean-encode a feature that should have no relationship with `SalePrice`, a count: `0, 1, 2, 3, 4, 5, ...`."
   ]
  },
  {
   "cell_type": "code",
   "execution_count": 10,
   "id": "eadfa824",
   "metadata": {
    "execution": {
     "iopub.execute_input": "2024-06-20T08:22:44.976756Z",
     "iopub.status.busy": "2024-06-20T08:22:44.975907Z",
     "iopub.status.idle": "2024-06-20T08:22:46.935838Z",
     "shell.execute_reply": "2024-06-20T08:22:46.934779Z"
    },
    "papermill": {
     "duration": 1.971577,
     "end_time": "2024-06-20T08:22:46.938544",
     "exception": false,
     "start_time": "2024-06-20T08:22:44.966967",
     "status": "completed"
    },
    "tags": []
   },
   "outputs": [
    {
     "name": "stdout",
     "output_type": "stream",
     "text": [
      "Score: 0.0362 RMSLE\n"
     ]
    }
   ],
   "source": [
    "# Try experimenting with the smoothing parameter m\n",
    "# Try 0, 1, 5, 50\n",
    "m = 50\n",
    "\n",
    "X = df.copy()\n",
    "y = X.pop('SalePrice')\n",
    "\n",
    "# Create an uninformative feature\n",
    "X[\"Count\"] = range(len(X))\n",
    "X[\"Count\"][1] = 0  # actually need one duplicate value to circumvent error-checking in MEstimateEncoder\n",
    "\n",
    "# fit and transform on the same dataset\n",
    "encoder = MEstimateEncoder(cols=\"Count\", m=m)\n",
    "X = encoder.fit_transform(X, y)\n",
    "\n",
    "# Results\n",
    "score =  score_dataset(X, y)\n",
    "print(f\"Score: {score:.4f} RMSLE\")"
   ]
  },
  {
   "cell_type": "markdown",
   "id": "bec63048",
   "metadata": {
    "papermill": {
     "duration": 0.00751,
     "end_time": "2024-06-20T08:22:46.954360",
     "exception": false,
     "start_time": "2024-06-20T08:22:46.946850",
     "status": "completed"
    },
    "tags": []
   },
   "source": [
    "Almost a perfect score!"
   ]
  },
  {
   "cell_type": "code",
   "execution_count": 11,
   "id": "5047af8e",
   "metadata": {
    "execution": {
     "iopub.execute_input": "2024-06-20T08:22:46.971441Z",
     "iopub.status.busy": "2024-06-20T08:22:46.971031Z",
     "iopub.status.idle": "2024-06-20T08:22:47.442251Z",
     "shell.execute_reply": "2024-06-20T08:22:47.441076Z"
    },
    "papermill": {
     "duration": 0.482521,
     "end_time": "2024-06-20T08:22:47.444752",
     "exception": false,
     "start_time": "2024-06-20T08:22:46.962231",
     "status": "completed"
    },
    "tags": []
   },
   "outputs": [
    {
     "data": {
      "image/png": "[encoded data removed]",
      "text/plain": [
       "<Figure size 576x432 with 1 Axes>"
      ]
     },
     "metadata": {},
     "output_type": "display_data"
    }
   ],
   "source": [
    "plt.figure(dpi=90)\n",
    "ax = sns.distplot(y, kde=True, hist=False)\n",
    "ax = sns.distplot(X[\"Count\"], color='r', ax=ax, hist=True, kde=False, norm_hist=True)\n",
    "ax.set_xlabel(\"SalePrice\");\n",
    "import warnings\n",
    "warnings.filterwarnings(\"ignore\")"
   ]
  },
  {
   "cell_type": "markdown",
   "id": "e2018b5a",
   "metadata": {
    "papermill": {
     "duration": 0.007678,
     "end_time": "2024-06-20T08:22:47.460618",
     "exception": false,
     "start_time": "2024-06-20T08:22:47.452940",
     "status": "completed"
    },
    "tags": []
   },
   "source": [
    "And the distributions are almost exactly the same, too.\n",
    "\n",
    "# 3) Overfitting with Target Encoders\n",
    "\n",
    "Based on your understanding of how mean-encoding works, can you explain how XGBoost was able to get an almost a perfect fit after mean-encoding the count feature?"
   ]
  },
  {
   "cell_type": "code",
   "execution_count": 12,
   "id": "71f5f07a",
   "metadata": {
    "execution": {
     "iopub.execute_input": "2024-06-20T08:22:47.479070Z",
     "iopub.status.busy": "2024-06-20T08:22:47.477896Z",
     "iopub.status.idle": "2024-06-20T08:22:47.486747Z",
     "shell.execute_reply": "2024-06-20T08:22:47.485735Z"
    },
    "lines_to_next_cell": 0,
    "papermill": {
     "duration": 0.020467,
     "end_time": "2024-06-20T08:22:47.489069",
     "exception": false,
     "start_time": "2024-06-20T08:22:47.468602",
     "status": "completed"
    },
    "tags": []
   },
   "outputs": [
    {
     "data": {
      "application/javascript": [
       "parent.postMessage({\"jupyterEvent\": \"custom.exercise_interaction\", \"data\": {\"outcomeType\": 1, \"valueTowardsCompletion\": 0.3333333333333333, \"interactionType\": 1, \"questionType\": 4, \"questionId\": \"3_Q3\", \"learnToolsVersion\": \"0.3.4\", \"failureMessage\": \"\", \"exceptionClass\": \"\", \"trace\": \"\"}}, \"*\")"
      ],
      "text/plain": [
       "<IPython.core.display.Javascript object>"
      ]
     },
     "metadata": {},
     "output_type": "display_data"
    },
    {
     "data": {
      "text/markdown": [
       "<span style=\"color:#33cc33\">Correct:</span> \n",
       "\n",
       "\n",
       "Since `Count` never has any duplicate values, the mean-encoded `Count` is essentially an exact copy of the target. In other words, mean-encoding turned a completely meaningless feature into a perfect feature.\n",
       "\n",
       "Now, the only reason this worked is because we trained XGBoost on the same set we used to train the encoder. If we had used a hold-out set instead, none of this \"fake\" encoding would have transferred to the training data.\n",
       "\n",
       "The lesson is that when using a target encoder it's very important to use separate data sets for training the encoder and training the model. Otherwise the results can be very disappointing!\n"
      ],
      "text/plain": [
       "Correct: \n",
       "\n",
       "\n",
       "Since `Count` never has any duplicate values, the mean-encoded `Count` is essentially an exact copy of the target. In other words, mean-encoding turned a completely meaningless feature into a perfect feature.\n",
       "\n",
       "Now, the only reason this worked is because we trained XGBoost on the same set we used to train the encoder. If we had used a hold-out set instead, none of this \"fake\" encoding would have transferred to the training data.\n",
       "\n",
       "The lesson is that when using a target encoder it's very important to use separate data sets for training the encoder and training the model. Otherwise the results can be very disappointing!"
      ]
     },
     "metadata": {},
     "output_type": "display_data"
    }
   ],
   "source": [
    "# View the solution (Run this cell to receive credit!)\n",
    "q_3.check()"
   ]
  },
  {
   "cell_type": "code",
   "execution_count": 13,
   "id": "dc65824f",
   "metadata": {
    "execution": {
     "iopub.execute_input": "2024-06-20T08:22:47.507059Z",
     "iopub.status.busy": "2024-06-20T08:22:47.506608Z",
     "iopub.status.idle": "2024-06-20T08:22:47.511226Z",
     "shell.execute_reply": "2024-06-20T08:22:47.510092Z"
    },
    "papermill": {
     "duration": 0.016219,
     "end_time": "2024-06-20T08:22:47.513534",
     "exception": false,
     "start_time": "2024-06-20T08:22:47.497315",
     "status": "completed"
    },
    "tags": []
   },
   "outputs": [],
   "source": [
    "# Uncomment this if you'd like a hint before seeing the answer\n",
    "#q_3.hint()"
   ]
  },
  {
   "cell_type": "markdown",
   "id": "693d43b6",
   "metadata": {
    "papermill": {
     "duration": 0.008219,
     "end_time": "2024-06-20T08:22:47.530165",
     "exception": false,
     "start_time": "2024-06-20T08:22:47.521946",
     "status": "completed"
    },
    "tags": []
   },
   "source": [
    "# The End #\n",
    "\n",
    "That's it for *Feature Engineering*! We hope you enjoyed your time with us.\n",
    "\n",
    "Now, are you ready to try out your new skills? Now would be a great time to join our [Housing Prices](https://www.kaggle.com/c/house-prices-advanced-regression-techniques) Getting Started competition. We've even prepared a [Bonus Lesson](https://www.kaggle.com/ryanholbrook/feature-engineering-for-house-prices) that collects all the work we've done together into a starter notebook.\n",
    "\n",
    "# References #\n",
    "Here are some great resources you might like to consult for more information. They all played a part in shaping this course:\n",
    "- *The Art of Feature Engineering*, a book by Pablo Duboue.\n",
    "- *An Empirical Analysis of Feature Engineering for Predictive Modeling*, an article by Jeff Heaton.\n",
    "- *Feature Engineering for Machine Learning*, a book by Alice Zheng and Amanda Casari. The tutorial on clustering was inspired by this excellent book.\n",
    "- *Feature Engineering and Selection*, a book by Max Kuhn and Kjell Johnson."
   ]
  },
  {
   "cell_type": "markdown",
   "id": "5dd53e8b",
   "metadata": {
    "papermill": {
     "duration": 0.008031,
     "end_time": "2024-06-20T08:22:47.546421",
     "exception": false,
     "start_time": "2024-06-20T08:22:47.538390",
     "status": "completed"
    },
    "tags": []
   },
   "source": [
    "---\n",
    "\n",
    "\n",
    "\n",
    "\n",
    "*Have questions or comments? Visit the [course discussion forum](https://www.kaggle.com/learn/feature-engineering/discussion) to chat with other learners.*"
   ]
  }
 ],
 "metadata": {
  "jupytext": {
   "cell_metadata_filter": "-all",
   "formats": "ipynb"
  },
  "kaggle": {
   "accelerator": "none",
   "dataSources": [
    {
     "datasetId": 933090,
     "sourceId": 1828856,
     "sourceType": "datasetVersion"
    }
   ],
   "isGpuEnabled": false,
   "isInternetEnabled": false,
   "language": "python",
   "sourceType": "notebook"
  },
  "kernelspec": {
   "display_name": "Python 3",
   "language": "python",
   "name": "python3"
  },
  "language_info": {
   "codemirror_mode": {
    "name": "ipython",
    "version": 3
   },
   "file_extension": ".py",
   "mimetype": "text/x-python",
   "name": "python",
   "nbconvert_exporter": "python",
   "pygments_lexer": "ipython3",
   "version": "3.10.13"
  },
  "papermill": {
   "default_parameters": {},
   "duration": 14.635423,
   "end_time": "2024-06-20T08:22:48.175863",
   "environment_variables": {},
   "exception": null,
   "input_path": "__notebook__.ipynb",
   "output_path": "__notebook__.ipynb",
   "parameters": {},
   "start_time": "2024-06-20T08:22:33.540440",
   "version": "2.5.0"
  }
 },
 "nbformat": 4,
 "nbformat_minor": 5
}
