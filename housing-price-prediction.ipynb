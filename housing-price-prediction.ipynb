{
 "cells": [
  {
   "cell_type": "code",
   "execution_count": 1,
   "id": "ee473ace",
   "metadata": {
    "_cell_guid": "b1076dfc-b9ad-4769-8c92-a6c4dae69d19",
    "_uuid": "8f2839f25d086af736a60e9eeb907d3b93b6e0e5",
    "execution": {
     "iopub.execute_input": "2024-05-29T11:14:20.114025Z",
     "iopub.status.busy": "2024-05-29T11:14:20.113524Z",
     "iopub.status.idle": "2024-05-29T11:14:21.068390Z",
     "shell.execute_reply": "2024-05-29T11:14:21.067111Z"
    },
    "papermill": {
     "duration": 0.964199,
     "end_time": "2024-05-29T11:14:21.072217",
     "exception": false,
     "start_time": "2024-05-29T11:14:20.108018",
     "status": "completed"
    },
    "tags": []
   },
   "outputs": [
    {
     "name": "stdout",
     "output_type": "stream",
     "text": [
      "/kaggle/input/simple-housing-price-prediction/sample_submission.csv\n",
      "/kaggle/input/simple-housing-price-prediction/train.csv\n",
      "/kaggle/input/simple-housing-price-prediction/test.csv\n"
     ]
    }
   ],
   "source": [
    "# This Python 3 environment comes with many helpful analytics libraries installed\n",
    "# It is defined by the kaggle/python Docker image: https://github.com/kaggle/docker-python\n",
    "# For example, here's several helpful packages to load\n",
    "\n",
    "import numpy as np # linear algebra\n",
    "import pandas as pd # data processing, CSV file I/O (e.g. pd.read_csv)\n",
    "\n",
    "# Input data files are available in the read-only \"../input/\" directory\n",
    "# For example, running this (by clicking run or pressing Shift+Enter) will list all files under the input directory\n",
    "\n",
    "import os\n",
    "for dirname, _, filenames in os.walk('/kaggle/input'):\n",
    "    for filename in filenames:\n",
    "        print(os.path.join(dirname, filename))\n",
    "\n",
    "# You can write up to 20GB to the current directory (/kaggle/working/) that gets preserved as output when you create a version using \"Save & Run All\" \n",
    "# You can also write temporary files to /kaggle/temp/, but they won't be saved outside of the current session"
   ]
  },
  {
   "cell_type": "code",
   "execution_count": 2,
   "id": "74a5189f",
   "metadata": {
    "execution": {
     "iopub.execute_input": "2024-05-29T11:14:21.080880Z",
     "iopub.status.busy": "2024-05-29T11:14:21.079857Z",
     "iopub.status.idle": "2024-05-29T11:14:21.965713Z",
     "shell.execute_reply": "2024-05-29T11:14:21.964633Z"
    },
    "papermill": {
     "duration": 0.892819,
     "end_time": "2024-05-29T11:14:21.968321",
     "exception": false,
     "start_time": "2024-05-29T11:14:21.075502",
     "status": "completed"
    },
    "tags": []
   },
   "outputs": [],
   "source": [
    "train_data_path = \"../input/simple-housing-price-prediction/train.csv\"\n",
    "test_data_path = \"../input/simple-housing-price-prediction/test.csv\"\n",
    "\n",
    "train_data = pd.read_csv(train_data_path)\n",
    "test_data = pd.read_csv(test_data_path)\n"
   ]
  },
  {
   "cell_type": "code",
   "execution_count": 3,
   "id": "26dceb34",
   "metadata": {
    "execution": {
     "iopub.execute_input": "2024-05-29T11:14:21.975753Z",
     "iopub.status.busy": "2024-05-29T11:14:21.975384Z",
     "iopub.status.idle": "2024-05-29T11:14:22.112992Z",
     "shell.execute_reply": "2024-05-29T11:14:22.111898Z"
    },
    "papermill": {
     "duration": 0.143997,
     "end_time": "2024-05-29T11:14:22.115257",
     "exception": false,
     "start_time": "2024-05-29T11:14:21.971260",
     "status": "completed"
    },
    "tags": []
   },
   "outputs": [
    {
     "data": {
      "text/html": [
       "<div>\n",
       "<style scoped>\n",
       "    .dataframe tbody tr th:only-of-type {\n",
       "        vertical-align: middle;\n",
       "    }\n",
       "\n",
       "    .dataframe tbody tr th {\n",
       "        vertical-align: top;\n",
       "    }\n",
       "\n",
       "    .dataframe thead th {\n",
       "        text-align: right;\n",
       "    }\n",
       "</style>\n",
       "<table border=\"1\" class=\"dataframe\">\n",
       "  <thead>\n",
       "    <tr style=\"text-align: right;\">\n",
       "      <th></th>\n",
       "      <th>house_id</th>\n",
       "      <th>date</th>\n",
       "      <th>location</th>\n",
       "      <th>type</th>\n",
       "      <th>block</th>\n",
       "      <th>street</th>\n",
       "      <th>storey_range</th>\n",
       "      <th>area_sqm</th>\n",
       "      <th>flat_model</th>\n",
       "      <th>commence_date</th>\n",
       "      <th>price</th>\n",
       "    </tr>\n",
       "  </thead>\n",
       "  <tbody>\n",
       "    <tr>\n",
       "      <th>0</th>\n",
       "      <td>199577</td>\n",
       "      <td>2006-09</td>\n",
       "      <td>Raleigh</td>\n",
       "      <td>5 ROOM</td>\n",
       "      <td>107D</td>\n",
       "      <td>Agawan Court</td>\n",
       "      <td>07 TO 09</td>\n",
       "      <td>110.0</td>\n",
       "      <td>D</td>\n",
       "      <td>2003</td>\n",
       "      <td>313000.0</td>\n",
       "    </tr>\n",
       "    <tr>\n",
       "      <th>1</th>\n",
       "      <td>217021</td>\n",
       "      <td>2007-06</td>\n",
       "      <td>Fresno</td>\n",
       "      <td>3 ROOM</td>\n",
       "      <td>678</td>\n",
       "      <td>Cleo St</td>\n",
       "      <td>07 TO 09</td>\n",
       "      <td>64.0</td>\n",
       "      <td>N</td>\n",
       "      <td>1988</td>\n",
       "      <td>167000.0</td>\n",
       "    </tr>\n",
       "    <tr>\n",
       "      <th>2</th>\n",
       "      <td>308062</td>\n",
       "      <td>2010-09</td>\n",
       "      <td>Tucson</td>\n",
       "      <td>4 ROOM</td>\n",
       "      <td>5</td>\n",
       "      <td>E Pleasant View Way</td>\n",
       "      <td>10 TO 12</td>\n",
       "      <td>92.0</td>\n",
       "      <td>K</td>\n",
       "      <td>1976</td>\n",
       "      <td>430000.0</td>\n",
       "    </tr>\n",
       "    <tr>\n",
       "      <th>3</th>\n",
       "      <td>212465</td>\n",
       "      <td>2007-04</td>\n",
       "      <td>Austin</td>\n",
       "      <td>4 ROOM</td>\n",
       "      <td>326</td>\n",
       "      <td>Park Hollow Ln</td>\n",
       "      <td>10 TO 12</td>\n",
       "      <td>92.0</td>\n",
       "      <td>K</td>\n",
       "      <td>1977</td>\n",
       "      <td>303800.0</td>\n",
       "    </tr>\n",
       "    <tr>\n",
       "      <th>4</th>\n",
       "      <td>60654</td>\n",
       "      <td>2001-10</td>\n",
       "      <td>Honolulu</td>\n",
       "      <td>4 ROOM</td>\n",
       "      <td>794</td>\n",
       "      <td>Ala Puawa Place</td>\n",
       "      <td>04 TO 06</td>\n",
       "      <td>102.0</td>\n",
       "      <td>G</td>\n",
       "      <td>1998</td>\n",
       "      <td>212000.0</td>\n",
       "    </tr>\n",
       "  </tbody>\n",
       "</table>\n",
       "</div>"
      ],
      "text/plain": [
       "   house_id     date  location    type block               street  \\\n",
       "0    199577  2006-09   Raleigh  5 ROOM  107D       Agawan Court     \n",
       "1    217021  2007-06    Fresno  3 ROOM   678              Cleo St   \n",
       "2    308062  2010-09    Tucson  4 ROOM     5  E Pleasant View Way   \n",
       "3    212465  2007-04    Austin  4 ROOM   326       Park Hollow Ln   \n",
       "4     60654  2001-10  Honolulu  4 ROOM   794    Ala Puawa Place     \n",
       "\n",
       "  storey_range  area_sqm flat_model  commence_date     price  \n",
       "0     07 TO 09     110.0          D           2003  313000.0  \n",
       "1     07 TO 09      64.0          N           1988  167000.0  \n",
       "2     10 TO 12      92.0          K           1976  430000.0  \n",
       "3     10 TO 12      92.0          K           1977  303800.0  \n",
       "4     04 TO 06     102.0          G           1998  212000.0  "
      ]
     },
     "execution_count": 3,
     "metadata": {},
     "output_type": "execute_result"
    }
   ],
   "source": [
    "train_data.head()\n",
    "train_data.dropna(axis=0)\n",
    "train_data.head()"
   ]
  },
  {
   "cell_type": "code",
   "execution_count": 4,
   "id": "1fcf929c",
   "metadata": {
    "execution": {
     "iopub.execute_input": "2024-05-29T11:14:22.123323Z",
     "iopub.status.busy": "2024-05-29T11:14:22.122918Z",
     "iopub.status.idle": "2024-05-29T11:14:22.130360Z",
     "shell.execute_reply": "2024-05-29T11:14:22.129225Z"
    },
    "papermill": {
     "duration": 0.014471,
     "end_time": "2024-05-29T11:14:22.132991",
     "exception": false,
     "start_time": "2024-05-29T11:14:22.118520",
     "status": "completed"
    },
    "tags": []
   },
   "outputs": [
    {
     "data": {
      "text/plain": [
       "Index(['house_id', 'date', 'location', 'type', 'block', 'street',\n",
       "       'storey_range', 'area_sqm', 'flat_model', 'commence_date', 'price'],\n",
       "      dtype='object')"
      ]
     },
     "execution_count": 4,
     "metadata": {},
     "output_type": "execute_result"
    }
   ],
   "source": [
    "train_data.columns"
   ]
  },
  {
   "cell_type": "code",
   "execution_count": 5,
   "id": "770715d2",
   "metadata": {
    "execution": {
     "iopub.execute_input": "2024-05-29T11:14:22.141591Z",
     "iopub.status.busy": "2024-05-29T11:14:22.141214Z",
     "iopub.status.idle": "2024-05-29T11:14:22.153416Z",
     "shell.execute_reply": "2024-05-29T11:14:22.152429Z"
    },
    "papermill": {
     "duration": 0.019746,
     "end_time": "2024-05-29T11:14:22.156087",
     "exception": false,
     "start_time": "2024-05-29T11:14:22.136341",
     "status": "completed"
    },
    "tags": []
   },
   "outputs": [],
   "source": [
    "y_train = train_data.price\n",
    "\n",
    "features = ['house_id','area_sqm', 'commence_date']\n",
    "X_train = train_data[features]"
   ]
  },
  {
   "cell_type": "code",
   "execution_count": 6,
   "id": "db28d3f7",
   "metadata": {
    "execution": {
     "iopub.execute_input": "2024-05-29T11:14:22.164401Z",
     "iopub.status.busy": "2024-05-29T11:14:22.164030Z",
     "iopub.status.idle": "2024-05-29T11:16:01.475444Z",
     "shell.execute_reply": "2024-05-29T11:16:01.474233Z"
    },
    "papermill": {
     "duration": 99.321885,
     "end_time": "2024-05-29T11:16:01.481314",
     "exception": false,
     "start_time": "2024-05-29T11:14:22.159429",
     "status": "completed"
    },
    "tags": []
   },
   "outputs": [
    {
     "name": "stdout",
     "output_type": "stream",
     "text": [
      "[140030. 163530. 169410. ... 462055. 452235. 468795.]\n"
     ]
    }
   ],
   "source": [
    "# from sklearn.tree import DecisionTreeRegressor\n",
    "# model_1 = DecisionTreeRegressor(random_state=1)\n",
    "from sklearn.ensemble import RandomForestRegressor\n",
    "model_1 = RandomForestRegressor(random_state=1)\n",
    "model_1.fit(X_train,y_train)\n",
    "X_test = test_data[features]\n",
    "prediction_1 = model_1.predict(X_test)\n",
    "print(prediction_1)"
   ]
  },
  {
   "cell_type": "code",
   "execution_count": 7,
   "id": "c9cce437",
   "metadata": {
    "execution": {
     "iopub.execute_input": "2024-05-29T11:16:01.490023Z",
     "iopub.status.busy": "2024-05-29T11:16:01.489625Z",
     "iopub.status.idle": "2024-05-29T11:16:01.605342Z",
     "shell.execute_reply": "2024-05-29T11:16:01.604064Z"
    },
    "papermill": {
     "duration": 0.123537,
     "end_time": "2024-05-29T11:16:01.608257",
     "exception": false,
     "start_time": "2024-05-29T11:16:01.484720",
     "status": "completed"
    },
    "tags": []
   },
   "outputs": [],
   "source": [
    "output = pd.DataFrame({'house_id': test_data.house_id,\n",
    "                       'price': prediction_1})\n",
    "output.to_csv('submission.csv', index=False)"
   ]
  }
 ],
 "metadata": {
  "kaggle": {
   "accelerator": "none",
   "dataSources": [
    {
     "databundleVersionId": 6856479,
     "sourceId": 62928,
     "sourceType": "competition"
    }
   ],
   "dockerImageVersionId": 30698,
   "isGpuEnabled": false,
   "isInternetEnabled": true,
   "language": "python",
   "sourceType": "notebook"
  },
  "kernelspec": {
   "display_name": "Python 3",
   "language": "python",
   "name": "python3"
  },
  "language_info": {
   "codemirror_mode": {
    "name": "ipython",
    "version": 3
   },
   "file_extension": ".py",
   "mimetype": "text/x-python",
   "name": "python",
   "nbconvert_exporter": "python",
   "pygments_lexer": "ipython3",
   "version": "3.10.13"
  },
  "papermill": {
   "default_parameters": {},
   "duration": 105.255739,
   "end_time": "2024-05-29T11:16:02.434871",
   "environment_variables": {},
   "exception": null,
   "input_path": "__notebook__.ipynb",
   "output_path": "__notebook__.ipynb",
   "parameters": {},
   "start_time": "2024-05-29T11:14:17.179132",
   "version": "2.5.0"
  }
 },
 "nbformat": 4,
 "nbformat_minor": 5
}
