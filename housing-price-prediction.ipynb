{
 "cells": [
  {
   "cell_type": "code",
   "execution_count": 1,
   "id": "3fc75bba",
   "metadata": {
    "_cell_guid": "b1076dfc-b9ad-4769-8c92-a6c4dae69d19",
    "_uuid": "8f2839f25d086af736a60e9eeb907d3b93b6e0e5",
    "execution": {
     "iopub.execute_input": "2024-05-29T11:01:40.310596Z",
     "iopub.status.busy": "2024-05-29T11:01:40.310169Z",
     "iopub.status.idle": "2024-05-29T11:01:41.051505Z",
     "shell.execute_reply": "2024-05-29T11:01:41.050253Z"
    },
    "papermill": {
     "duration": 0.749203,
     "end_time": "2024-05-29T11:01:41.054546",
     "exception": false,
     "start_time": "2024-05-29T11:01:40.305343",
     "status": "completed"
    },
    "tags": []
   },
   "outputs": [
    {
     "name": "stdout",
     "output_type": "stream",
     "text": [
      "/kaggle/input/simple-housing-price-prediction/sample_submission.csv\n",
      "/kaggle/input/simple-housing-price-prediction/train.csv\n",
      "/kaggle/input/simple-housing-price-prediction/test.csv\n"
     ]
    }
   ],
   "source": [
    "# This Python 3 environment comes with many helpful analytics libraries installed\n",
    "# It is defined by the kaggle/python Docker image: https://github.com/kaggle/docker-python\n",
    "# For example, here's several helpful packages to load\n",
    "\n",
    "import numpy as np # linear algebra\n",
    "import pandas as pd # data processing, CSV file I/O (e.g. pd.read_csv)\n",
    "\n",
    "# Input data files are available in the read-only \"../input/\" directory\n",
    "# For example, running this (by clicking run or pressing Shift+Enter) will list all files under the input directory\n",
    "\n",
    "import os\n",
    "for dirname, _, filenames in os.walk('/kaggle/input'):\n",
    "    for filename in filenames:\n",
    "        print(os.path.join(dirname, filename))\n",
    "\n",
    "# You can write up to 20GB to the current directory (/kaggle/working/) that gets preserved as output when you create a version using \"Save & Run All\" \n",
    "# You can also write temporary files to /kaggle/temp/, but they won't be saved outside of the current session"
   ]
  },
  {
   "cell_type": "code",
   "execution_count": 2,
   "id": "5733852c",
   "metadata": {
    "execution": {
     "iopub.execute_input": "2024-05-29T11:01:41.064177Z",
     "iopub.status.busy": "2024-05-29T11:01:41.062939Z",
     "iopub.status.idle": "2024-05-29T11:01:41.873871Z",
     "shell.execute_reply": "2024-05-29T11:01:41.872964Z"
    },
    "papermill": {
     "duration": 0.81809,
     "end_time": "2024-05-29T11:01:41.876423",
     "exception": false,
     "start_time": "2024-05-29T11:01:41.058333",
     "status": "completed"
    },
    "tags": []
   },
   "outputs": [],
   "source": [
    "train_data_path = \"../input/simple-housing-price-prediction/train.csv\"\n",
    "test_data_path = \"../input/simple-housing-price-prediction/test.csv\"\n",
    "\n",
    "train_data = pd.read_csv(train_data_path)\n",
    "test_data = pd.read_csv(test_data_path)\n"
   ]
  },
  {
   "cell_type": "code",
   "execution_count": 3,
   "id": "92b95b36",
   "metadata": {
    "execution": {
     "iopub.execute_input": "2024-05-29T11:01:41.883400Z",
     "iopub.status.busy": "2024-05-29T11:01:41.883014Z",
     "iopub.status.idle": "2024-05-29T11:01:42.016253Z",
     "shell.execute_reply": "2024-05-29T11:01:42.015262Z"
    },
    "papermill": {
     "duration": 0.139249,
     "end_time": "2024-05-29T11:01:42.018489",
     "exception": false,
     "start_time": "2024-05-29T11:01:41.879240",
     "status": "completed"
    },
    "tags": []
   },
   "outputs": [
    {
     "data": {
      "text/html": [
       "<div>\n",
       "<style scoped>\n",
       "    .dataframe tbody tr th:only-of-type {\n",
       "        vertical-align: middle;\n",
       "    }\n",
       "\n",
       "    .dataframe tbody tr th {\n",
       "        vertical-align: top;\n",
       "    }\n",
       "\n",
       "    .dataframe thead th {\n",
       "        text-align: right;\n",
       "    }\n",
       "</style>\n",
       "<table border=\"1\" class=\"dataframe\">\n",
       "  <thead>\n",
       "    <tr style=\"text-align: right;\">\n",
       "      <th></th>\n",
       "      <th>house_id</th>\n",
       "      <th>date</th>\n",
       "      <th>location</th>\n",
       "      <th>type</th>\n",
       "      <th>block</th>\n",
       "      <th>street</th>\n",
       "      <th>storey_range</th>\n",
       "      <th>area_sqm</th>\n",
       "      <th>flat_model</th>\n",
       "      <th>commence_date</th>\n",
       "      <th>price</th>\n",
       "    </tr>\n",
       "  </thead>\n",
       "  <tbody>\n",
       "    <tr>\n",
       "      <th>0</th>\n",
       "      <td>199577</td>\n",
       "      <td>2006-09</td>\n",
       "      <td>Raleigh</td>\n",
       "      <td>5 ROOM</td>\n",
       "      <td>107D</td>\n",
       "      <td>Agawan Court</td>\n",
       "      <td>07 TO 09</td>\n",
       "      <td>110.0</td>\n",
       "      <td>D</td>\n",
       "      <td>2003</td>\n",
       "      <td>313000.0</td>\n",
       "    </tr>\n",
       "    <tr>\n",
       "      <th>1</th>\n",
       "      <td>217021</td>\n",
       "      <td>2007-06</td>\n",
       "      <td>Fresno</td>\n",
       "      <td>3 ROOM</td>\n",
       "      <td>678</td>\n",
       "      <td>Cleo St</td>\n",
       "      <td>07 TO 09</td>\n",
       "      <td>64.0</td>\n",
       "      <td>N</td>\n",
       "      <td>1988</td>\n",
       "      <td>167000.0</td>\n",
       "    </tr>\n",
       "    <tr>\n",
       "      <th>2</th>\n",
       "      <td>308062</td>\n",
       "      <td>2010-09</td>\n",
       "      <td>Tucson</td>\n",
       "      <td>4 ROOM</td>\n",
       "      <td>5</td>\n",
       "      <td>E Pleasant View Way</td>\n",
       "      <td>10 TO 12</td>\n",
       "      <td>92.0</td>\n",
       "      <td>K</td>\n",
       "      <td>1976</td>\n",
       "      <td>430000.0</td>\n",
       "    </tr>\n",
       "    <tr>\n",
       "      <th>3</th>\n",
       "      <td>212465</td>\n",
       "      <td>2007-04</td>\n",
       "      <td>Austin</td>\n",
       "      <td>4 ROOM</td>\n",
       "      <td>326</td>\n",
       "      <td>Park Hollow Ln</td>\n",
       "      <td>10 TO 12</td>\n",
       "      <td>92.0</td>\n",
       "      <td>K</td>\n",
       "      <td>1977</td>\n",
       "      <td>303800.0</td>\n",
       "    </tr>\n",
       "    <tr>\n",
       "      <th>4</th>\n",
       "      <td>60654</td>\n",
       "      <td>2001-10</td>\n",
       "      <td>Honolulu</td>\n",
       "      <td>4 ROOM</td>\n",
       "      <td>794</td>\n",
       "      <td>Ala Puawa Place</td>\n",
       "      <td>04 TO 06</td>\n",
       "      <td>102.0</td>\n",
       "      <td>G</td>\n",
       "      <td>1998</td>\n",
       "      <td>212000.0</td>\n",
       "    </tr>\n",
       "  </tbody>\n",
       "</table>\n",
       "</div>"
      ],
      "text/plain": [
       "   house_id     date  location    type block               street  \\\n",
       "0    199577  2006-09   Raleigh  5 ROOM  107D       Agawan Court     \n",
       "1    217021  2007-06    Fresno  3 ROOM   678              Cleo St   \n",
       "2    308062  2010-09    Tucson  4 ROOM     5  E Pleasant View Way   \n",
       "3    212465  2007-04    Austin  4 ROOM   326       Park Hollow Ln   \n",
       "4     60654  2001-10  Honolulu  4 ROOM   794    Ala Puawa Place     \n",
       "\n",
       "  storey_range  area_sqm flat_model  commence_date     price  \n",
       "0     07 TO 09     110.0          D           2003  313000.0  \n",
       "1     07 TO 09      64.0          N           1988  167000.0  \n",
       "2     10 TO 12      92.0          K           1976  430000.0  \n",
       "3     10 TO 12      92.0          K           1977  303800.0  \n",
       "4     04 TO 06     102.0          G           1998  212000.0  "
      ]
     },
     "execution_count": 3,
     "metadata": {},
     "output_type": "execute_result"
    }
   ],
   "source": [
    "train_data.head()\n",
    "train_data.dropna(axis=0)\n",
    "train_data.head()"
   ]
  },
  {
   "cell_type": "code",
   "execution_count": 4,
   "id": "e04f035f",
   "metadata": {
    "execution": {
     "iopub.execute_input": "2024-05-29T11:01:42.025786Z",
     "iopub.status.busy": "2024-05-29T11:01:42.025426Z",
     "iopub.status.idle": "2024-05-29T11:01:42.031989Z",
     "shell.execute_reply": "2024-05-29T11:01:42.031022Z"
    },
    "papermill": {
     "duration": 0.012605,
     "end_time": "2024-05-29T11:01:42.034062",
     "exception": false,
     "start_time": "2024-05-29T11:01:42.021457",
     "status": "completed"
    },
    "tags": []
   },
   "outputs": [
    {
     "data": {
      "text/plain": [
       "Index(['house_id', 'date', 'location', 'type', 'block', 'street',\n",
       "       'storey_range', 'area_sqm', 'flat_model', 'commence_date', 'price'],\n",
       "      dtype='object')"
      ]
     },
     "execution_count": 4,
     "metadata": {},
     "output_type": "execute_result"
    }
   ],
   "source": [
    "train_data.columns"
   ]
  },
  {
   "cell_type": "code",
   "execution_count": 5,
   "id": "90e8b016",
   "metadata": {
    "execution": {
     "iopub.execute_input": "2024-05-29T11:01:42.041960Z",
     "iopub.status.busy": "2024-05-29T11:01:42.041158Z",
     "iopub.status.idle": "2024-05-29T11:01:42.052111Z",
     "shell.execute_reply": "2024-05-29T11:01:42.051051Z"
    },
    "papermill": {
     "duration": 0.017184,
     "end_time": "2024-05-29T11:01:42.054297",
     "exception": false,
     "start_time": "2024-05-29T11:01:42.037113",
     "status": "completed"
    },
    "tags": []
   },
   "outputs": [],
   "source": [
    "y_train = train_data.price\n",
    "\n",
    "features = ['house_id','area_sqm', 'commence_date']\n",
    "X_train = train_data[features]"
   ]
  },
  {
   "cell_type": "code",
   "execution_count": 6,
   "id": "50adca43",
   "metadata": {
    "execution": {
     "iopub.execute_input": "2024-05-29T11:01:42.062315Z",
     "iopub.status.busy": "2024-05-29T11:01:42.061587Z",
     "iopub.status.idle": "2024-05-29T11:01:44.751640Z",
     "shell.execute_reply": "2024-05-29T11:01:44.750444Z"
    },
    "papermill": {
     "duration": 2.696466,
     "end_time": "2024-05-29T11:01:44.753911",
     "exception": false,
     "start_time": "2024-05-29T11:01:42.057445",
     "status": "completed"
    },
    "tags": []
   },
   "outputs": [
    {
     "name": "stdout",
     "output_type": "stream",
     "text": [
      "[146500. 158000. 166000. ... 480000. 488000. 477000.]\n"
     ]
    }
   ],
   "source": [
    "from sklearn.tree import DecisionTreeRegressor\n",
    "model_1 = DecisionTreeRegressor(random_state=1)\n",
    "model_1.fit(X_train,y_train)\n",
    "X_test = test_data[features]\n",
    "prediction_1 = model_1.predict(X_test)\n",
    "print(prediction_1)"
   ]
  },
  {
   "cell_type": "code",
   "execution_count": 7,
   "id": "8a818b33",
   "metadata": {
    "execution": {
     "iopub.execute_input": "2024-05-29T11:01:44.761710Z",
     "iopub.status.busy": "2024-05-29T11:01:44.761345Z",
     "iopub.status.idle": "2024-05-29T11:01:44.864996Z",
     "shell.execute_reply": "2024-05-29T11:01:44.863809Z"
    },
    "papermill": {
     "duration": 0.110404,
     "end_time": "2024-05-29T11:01:44.867549",
     "exception": false,
     "start_time": "2024-05-29T11:01:44.757145",
     "status": "completed"
    },
    "tags": []
   },
   "outputs": [],
   "source": [
    "output = pd.DataFrame({'house_id': test_data.house_id,\n",
    "                       'price': prediction_1})\n",
    "output.to_csv('submission.csv', index=False)"
   ]
  }
 ],
 "metadata": {
  "kaggle": {
   "accelerator": "none",
   "dataSources": [
    {
     "databundleVersionId": 6856479,
     "sourceId": 62928,
     "sourceType": "competition"
    }
   ],
   "dockerImageVersionId": 30698,
   "isGpuEnabled": false,
   "isInternetEnabled": true,
   "language": "python",
   "sourceType": "notebook"
  },
  "kernelspec": {
   "display_name": "Python 3",
   "language": "python",
   "name": "python3"
  },
  "language_info": {
   "codemirror_mode": {
    "name": "ipython",
    "version": 3
   },
   "file_extension": ".py",
   "mimetype": "text/x-python",
   "name": "python",
   "nbconvert_exporter": "python",
   "pygments_lexer": "ipython3",
   "version": "3.10.13"
  },
  "papermill": {
   "default_parameters": {},
   "duration": 7.679332,
   "end_time": "2024-05-29T11:01:45.390310",
   "environment_variables": {},
   "exception": null,
   "input_path": "__notebook__.ipynb",
   "output_path": "__notebook__.ipynb",
   "parameters": {},
   "start_time": "2024-05-29T11:01:37.710978",
   "version": "2.5.0"
  }
 },
 "nbformat": 4,
 "nbformat_minor": 5
}
