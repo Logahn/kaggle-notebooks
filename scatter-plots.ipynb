{
 "cells": [
  {
   "cell_type": "markdown",
   "id": "8392891e",
   "metadata": {
    "papermill": {
     "duration": 0.00797,
     "end_time": "2024-06-16T22:55:43.548730",
     "exception": false,
     "start_time": "2024-06-16T22:55:43.540760",
     "status": "completed"
    },
    "tags": []
   },
   "source": [
    "**This notebook is an exercise in the [Data Visualization](https://www.kaggle.com/learn/data-visualization) course.  You can reference the tutorial at [this link](https://www.kaggle.com/alexisbcook/scatter-plots).**\n",
    "\n",
    "---\n"
   ]
  },
  {
   "cell_type": "markdown",
   "id": "058cdf10",
   "metadata": {
    "papermill": {
     "duration": 0.007011,
     "end_time": "2024-06-16T22:55:43.563303",
     "exception": false,
     "start_time": "2024-06-16T22:55:43.556292",
     "status": "completed"
    },
    "tags": []
   },
   "source": [
    "In this exercise, you will use your new knowledge to propose a solution to a real-world scenario.  To succeed, you will need to import data into Python, answer questions using the data, and generate **scatter plots** to understand patterns in the data.\n",
    "\n",
    "## Scenario\n",
    "\n",
    "You work for a major candy producer, and your goal is to write a report that your company can use to guide the design of its next product.  Soon after starting your research, you stumble across this [very interesting dataset](https://fivethirtyeight.com/features/the-ultimate-halloween-candy-power-ranking/) containing results from a fun survey to crowdsource favorite candies.\n",
    "\n",
    "## Setup\n",
    "\n",
    "Run the next cell to import and configure the Python libraries that you need to complete the exercise."
   ]
  },
  {
   "cell_type": "code",
   "execution_count": 1,
   "id": "60521a96",
   "metadata": {
    "execution": {
     "iopub.execute_input": "2024-06-16T22:55:43.580040Z",
     "iopub.status.busy": "2024-06-16T22:55:43.579253Z",
     "iopub.status.idle": "2024-06-16T22:55:45.356541Z",
     "shell.execute_reply": "2024-06-16T22:55:45.355555Z"
    },
    "papermill": {
     "duration": 1.788262,
     "end_time": "2024-06-16T22:55:45.358892",
     "exception": false,
     "start_time": "2024-06-16T22:55:43.570630",
     "status": "completed"
    },
    "tags": []
   },
   "outputs": [
    {
     "name": "stdout",
     "output_type": "stream",
     "text": [
      "Setup Complete\n"
     ]
    }
   ],
   "source": [
    "import pandas as pd\n",
    "pd.plotting.register_matplotlib_converters()\n",
    "import matplotlib.pyplot as plt\n",
    "%matplotlib inline\n",
    "import seaborn as sns\n",
    "print(\"Setup Complete\")"
   ]
  },
  {
   "cell_type": "markdown",
   "id": "cad3269e",
   "metadata": {
    "papermill": {
     "duration": 0.007219,
     "end_time": "2024-06-16T22:55:45.373831",
     "exception": false,
     "start_time": "2024-06-16T22:55:45.366612",
     "status": "completed"
    },
    "tags": []
   },
   "source": [
    "The questions below will give you feedback on your work. Run the following cell to set up our feedback system."
   ]
  },
  {
   "cell_type": "code",
   "execution_count": 2,
   "id": "b5487f4e",
   "metadata": {
    "execution": {
     "iopub.execute_input": "2024-06-16T22:55:45.391207Z",
     "iopub.status.busy": "2024-06-16T22:55:45.390228Z",
     "iopub.status.idle": "2024-06-16T22:55:45.446270Z",
     "shell.execute_reply": "2024-06-16T22:55:45.445164Z"
    },
    "papermill": {
     "duration": 0.066887,
     "end_time": "2024-06-16T22:55:45.448380",
     "exception": false,
     "start_time": "2024-06-16T22:55:45.381493",
     "status": "completed"
    },
    "tags": []
   },
   "outputs": [
    {
     "name": "stdout",
     "output_type": "stream",
     "text": [
      "Setup Complete\n"
     ]
    }
   ],
   "source": [
    "# Set up code checking\n",
    "import os\n",
    "if not os.path.exists(\"../input/candy.csv\"):\n",
    "    os.symlink(\"../input/data-for-datavis/candy.csv\", \"../input/candy.csv\") \n",
    "from learntools.core import binder\n",
    "binder.bind(globals())\n",
    "from learntools.data_viz_to_coder.ex4 import *\n",
    "print(\"Setup Complete\")"
   ]
  },
  {
   "cell_type": "markdown",
   "id": "e5892a9a",
   "metadata": {
    "papermill": {
     "duration": 0.00733,
     "end_time": "2024-06-16T22:55:45.463548",
     "exception": false,
     "start_time": "2024-06-16T22:55:45.456218",
     "status": "completed"
    },
    "tags": []
   },
   "source": [
    "## Step 1: Load the Data\n",
    "\n",
    "Read the candy data file into `candy_data`.  Use the `\"id\"` column to label the rows."
   ]
  },
  {
   "cell_type": "code",
   "execution_count": 3,
   "id": "410c9771",
   "metadata": {
    "execution": {
     "iopub.execute_input": "2024-06-16T22:55:45.480027Z",
     "iopub.status.busy": "2024-06-16T22:55:45.479683Z",
     "iopub.status.idle": "2024-06-16T22:55:45.491872Z",
     "shell.execute_reply": "2024-06-16T22:55:45.490941Z"
    },
    "papermill": {
     "duration": 0.022732,
     "end_time": "2024-06-16T22:55:45.493925",
     "exception": false,
     "start_time": "2024-06-16T22:55:45.471193",
     "status": "completed"
    },
    "tags": []
   },
   "outputs": [
    {
     "data": {
      "application/javascript": [
       "parent.postMessage({\"jupyterEvent\": \"custom.exercise_interaction\", \"data\": {\"outcomeType\": 1, \"valueTowardsCompletion\": 0.3333333333333333, \"interactionType\": 1, \"questionType\": 1, \"questionId\": \"1_LoadData\", \"learnToolsVersion\": \"0.3.4\", \"failureMessage\": \"\", \"exceptionClass\": \"\", \"trace\": \"\"}}, \"*\")"
      ],
      "text/plain": [
       "<IPython.core.display.Javascript object>"
      ]
     },
     "metadata": {},
     "output_type": "display_data"
    },
    {
     "data": {
      "text/markdown": [
       "<span style=\"color:#33cc33\">Correct</span>"
      ],
      "text/plain": [
       "Correct"
      ]
     },
     "metadata": {},
     "output_type": "display_data"
    }
   ],
   "source": [
    "# Path of the file to read\n",
    "candy_filepath = \"../input/candy.csv\"\n",
    "\n",
    "# Fill in the line below to read the file into a variable candy_data\n",
    "candy_data = pd.read_csv(candy_filepath, index_col='id')\n",
    "\n",
    "# Run the line below with no changes to check that you've loaded the data correctly\n",
    "step_1.check()"
   ]
  },
  {
   "cell_type": "code",
   "execution_count": 4,
   "id": "939f46ee",
   "metadata": {
    "execution": {
     "iopub.execute_input": "2024-06-16T22:55:45.511213Z",
     "iopub.status.busy": "2024-06-16T22:55:45.510659Z",
     "iopub.status.idle": "2024-06-16T22:55:45.514470Z",
     "shell.execute_reply": "2024-06-16T22:55:45.513622Z"
    },
    "papermill": {
     "duration": 0.014518,
     "end_time": "2024-06-16T22:55:45.516413",
     "exception": false,
     "start_time": "2024-06-16T22:55:45.501895",
     "status": "completed"
    },
    "tags": []
   },
   "outputs": [],
   "source": [
    "# Lines below will give you a hint or solution code\n",
    "#step_1.hint()\n",
    "#step_1.solution()"
   ]
  },
  {
   "cell_type": "markdown",
   "id": "56ba4126",
   "metadata": {
    "papermill": {
     "duration": 0.007546,
     "end_time": "2024-06-16T22:55:45.531780",
     "exception": false,
     "start_time": "2024-06-16T22:55:45.524234",
     "status": "completed"
    },
    "tags": []
   },
   "source": [
    "## Step 2: Review the data\n",
    "\n",
    "Use a Python command to print the first five rows of the data."
   ]
  },
  {
   "cell_type": "code",
   "execution_count": 5,
   "id": "89d47f50",
   "metadata": {
    "execution": {
     "iopub.execute_input": "2024-06-16T22:55:45.549135Z",
     "iopub.status.busy": "2024-06-16T22:55:45.548798Z",
     "iopub.status.idle": "2024-06-16T22:55:45.568525Z",
     "shell.execute_reply": "2024-06-16T22:55:45.567617Z"
    },
    "papermill": {
     "duration": 0.030672,
     "end_time": "2024-06-16T22:55:45.570611",
     "exception": false,
     "start_time": "2024-06-16T22:55:45.539939",
     "status": "completed"
    },
    "tags": []
   },
   "outputs": [
    {
     "data": {
      "text/html": [
       "<div>\n",
       "<style scoped>\n",
       "    .dataframe tbody tr th:only-of-type {\n",
       "        vertical-align: middle;\n",
       "    }\n",
       "\n",
       "    .dataframe tbody tr th {\n",
       "        vertical-align: top;\n",
       "    }\n",
       "\n",
       "    .dataframe thead th {\n",
       "        text-align: right;\n",
       "    }\n",
       "</style>\n",
       "<table border=\"1\" class=\"dataframe\">\n",
       "  <thead>\n",
       "    <tr style=\"text-align: right;\">\n",
       "      <th></th>\n",
       "      <th>competitorname</th>\n",
       "      <th>chocolate</th>\n",
       "      <th>fruity</th>\n",
       "      <th>caramel</th>\n",
       "      <th>peanutyalmondy</th>\n",
       "      <th>nougat</th>\n",
       "      <th>crispedricewafer</th>\n",
       "      <th>hard</th>\n",
       "      <th>bar</th>\n",
       "      <th>pluribus</th>\n",
       "      <th>sugarpercent</th>\n",
       "      <th>pricepercent</th>\n",
       "      <th>winpercent</th>\n",
       "    </tr>\n",
       "    <tr>\n",
       "      <th>id</th>\n",
       "      <th></th>\n",
       "      <th></th>\n",
       "      <th></th>\n",
       "      <th></th>\n",
       "      <th></th>\n",
       "      <th></th>\n",
       "      <th></th>\n",
       "      <th></th>\n",
       "      <th></th>\n",
       "      <th></th>\n",
       "      <th></th>\n",
       "      <th></th>\n",
       "      <th></th>\n",
       "    </tr>\n",
       "  </thead>\n",
       "  <tbody>\n",
       "    <tr>\n",
       "      <th>0</th>\n",
       "      <td>100 Grand</td>\n",
       "      <td>Yes</td>\n",
       "      <td>No</td>\n",
       "      <td>Yes</td>\n",
       "      <td>No</td>\n",
       "      <td>No</td>\n",
       "      <td>Yes</td>\n",
       "      <td>No</td>\n",
       "      <td>Yes</td>\n",
       "      <td>No</td>\n",
       "      <td>0.732</td>\n",
       "      <td>0.860</td>\n",
       "      <td>66.971725</td>\n",
       "    </tr>\n",
       "    <tr>\n",
       "      <th>1</th>\n",
       "      <td>3 Musketeers</td>\n",
       "      <td>Yes</td>\n",
       "      <td>No</td>\n",
       "      <td>No</td>\n",
       "      <td>No</td>\n",
       "      <td>Yes</td>\n",
       "      <td>No</td>\n",
       "      <td>No</td>\n",
       "      <td>Yes</td>\n",
       "      <td>No</td>\n",
       "      <td>0.604</td>\n",
       "      <td>0.511</td>\n",
       "      <td>67.602936</td>\n",
       "    </tr>\n",
       "    <tr>\n",
       "      <th>2</th>\n",
       "      <td>Air Heads</td>\n",
       "      <td>No</td>\n",
       "      <td>Yes</td>\n",
       "      <td>No</td>\n",
       "      <td>No</td>\n",
       "      <td>No</td>\n",
       "      <td>No</td>\n",
       "      <td>No</td>\n",
       "      <td>No</td>\n",
       "      <td>No</td>\n",
       "      <td>0.906</td>\n",
       "      <td>0.511</td>\n",
       "      <td>52.341465</td>\n",
       "    </tr>\n",
       "    <tr>\n",
       "      <th>3</th>\n",
       "      <td>Almond Joy</td>\n",
       "      <td>Yes</td>\n",
       "      <td>No</td>\n",
       "      <td>No</td>\n",
       "      <td>Yes</td>\n",
       "      <td>No</td>\n",
       "      <td>No</td>\n",
       "      <td>No</td>\n",
       "      <td>Yes</td>\n",
       "      <td>No</td>\n",
       "      <td>0.465</td>\n",
       "      <td>0.767</td>\n",
       "      <td>50.347546</td>\n",
       "    </tr>\n",
       "    <tr>\n",
       "      <th>4</th>\n",
       "      <td>Baby Ruth</td>\n",
       "      <td>Yes</td>\n",
       "      <td>No</td>\n",
       "      <td>Yes</td>\n",
       "      <td>Yes</td>\n",
       "      <td>Yes</td>\n",
       "      <td>No</td>\n",
       "      <td>No</td>\n",
       "      <td>Yes</td>\n",
       "      <td>No</td>\n",
       "      <td>0.604</td>\n",
       "      <td>0.767</td>\n",
       "      <td>56.914547</td>\n",
       "    </tr>\n",
       "  </tbody>\n",
       "</table>\n",
       "</div>"
      ],
      "text/plain": [
       "   competitorname chocolate fruity caramel peanutyalmondy nougat  \\\n",
       "id                                                                 \n",
       "0       100 Grand       Yes     No     Yes             No     No   \n",
       "1    3 Musketeers       Yes     No      No             No    Yes   \n",
       "2       Air Heads        No    Yes      No             No     No   \n",
       "3      Almond Joy       Yes     No      No            Yes     No   \n",
       "4       Baby Ruth       Yes     No     Yes            Yes    Yes   \n",
       "\n",
       "   crispedricewafer hard  bar pluribus  sugarpercent  pricepercent  winpercent  \n",
       "id                                                                              \n",
       "0               Yes   No  Yes       No         0.732         0.860   66.971725  \n",
       "1                No   No  Yes       No         0.604         0.511   67.602936  \n",
       "2                No   No   No       No         0.906         0.511   52.341465  \n",
       "3                No   No  Yes       No         0.465         0.767   50.347546  \n",
       "4                No   No  Yes       No         0.604         0.767   56.914547  "
      ]
     },
     "execution_count": 5,
     "metadata": {},
     "output_type": "execute_result"
    }
   ],
   "source": [
    "# Print the first five rows of the data\n",
    "candy_data.head()"
   ]
  },
  {
   "cell_type": "markdown",
   "id": "cb7b4469",
   "metadata": {
    "papermill": {
     "duration": 0.007779,
     "end_time": "2024-06-16T22:55:45.586817",
     "exception": false,
     "start_time": "2024-06-16T22:55:45.579038",
     "status": "completed"
    },
    "tags": []
   },
   "source": [
    "The dataset contains 83 rows, where each corresponds to a different candy bar.  There are 13 columns:\n",
    "- `'competitorname'` contains the name of the candy bar. \n",
    "- the next **9** columns (from `'chocolate'` to `'pluribus'`) describe the candy.  For instance, rows with chocolate candies have `\"Yes\"` in the `'chocolate'` column (and candies without chocolate have `\"No\"` in the same column).\n",
    "- `'sugarpercent'` provides some indication of the amount of sugar, where higher values signify higher sugar content.\n",
    "- `'pricepercent'` shows the price per unit, relative to the other candies in the dataset.\n",
    "- `'winpercent'` is calculated from the survey results; higher values indicate that the candy was more popular with survey respondents.\n",
    "\n",
    "Use the first five rows of the data to answer the questions below."
   ]
  },
  {
   "cell_type": "code",
   "execution_count": 6,
   "id": "0d75d269",
   "metadata": {
    "execution": {
     "iopub.execute_input": "2024-06-16T22:55:45.604629Z",
     "iopub.status.busy": "2024-06-16T22:55:45.603825Z",
     "iopub.status.idle": "2024-06-16T22:55:45.611772Z",
     "shell.execute_reply": "2024-06-16T22:55:45.610860Z"
    },
    "papermill": {
     "duration": 0.019001,
     "end_time": "2024-06-16T22:55:45.613850",
     "exception": false,
     "start_time": "2024-06-16T22:55:45.594849",
     "status": "completed"
    },
    "tags": []
   },
   "outputs": [
    {
     "data": {
      "application/javascript": [
       "parent.postMessage({\"jupyterEvent\": \"custom.exercise_interaction\", \"data\": {\"outcomeType\": 1, \"valueTowardsCompletion\": 0.3333333333333333, \"interactionType\": 1, \"questionType\": 1, \"questionId\": \"2_ReviewData\", \"learnToolsVersion\": \"0.3.4\", \"failureMessage\": \"\", \"exceptionClass\": \"\", \"trace\": \"\"}}, \"*\")"
      ],
      "text/plain": [
       "<IPython.core.display.Javascript object>"
      ]
     },
     "metadata": {},
     "output_type": "display_data"
    },
    {
     "data": {
      "text/markdown": [
       "<span style=\"color:#33cc33\">Correct</span>"
      ],
      "text/plain": [
       "Correct"
      ]
     },
     "metadata": {},
     "output_type": "display_data"
    }
   ],
   "source": [
    "# Fill in the line below: Which candy was more popular with survey respondents:\n",
    "# '3 Musketeers' or 'Almond Joy'?  (Please enclose your answer in single quotes.)\n",
    "more_popular = '3 Musketeers'\n",
    "\n",
    "# Fill in the line below: Which candy has higher sugar content: 'Air Heads'\n",
    "# or 'Baby Ruth'? (Please enclose your answer in single quotes.)\n",
    "more_sugar = 'Air Heads'\n",
    "\n",
    "# Check your answers\n",
    "step_2.check()"
   ]
  },
  {
   "cell_type": "code",
   "execution_count": 7,
   "id": "4c6be207",
   "metadata": {
    "execution": {
     "iopub.execute_input": "2024-06-16T22:55:45.631530Z",
     "iopub.status.busy": "2024-06-16T22:55:45.631235Z",
     "iopub.status.idle": "2024-06-16T22:55:45.635041Z",
     "shell.execute_reply": "2024-06-16T22:55:45.634196Z"
    },
    "papermill": {
     "duration": 0.014869,
     "end_time": "2024-06-16T22:55:45.637009",
     "exception": false,
     "start_time": "2024-06-16T22:55:45.622140",
     "status": "completed"
    },
    "tags": []
   },
   "outputs": [],
   "source": [
    "# Lines below will give you a hint or solution code\n",
    "#step_2.hint()\n",
    "#step_2.solution()"
   ]
  },
  {
   "cell_type": "markdown",
   "id": "2c0323ec",
   "metadata": {
    "papermill": {
     "duration": 0.008244,
     "end_time": "2024-06-16T22:55:45.653836",
     "exception": false,
     "start_time": "2024-06-16T22:55:45.645592",
     "status": "completed"
    },
    "tags": []
   },
   "source": [
    "## Step 3: The role of sugar\n",
    "\n",
    "Do people tend to prefer candies with higher sugar content?  \n",
    "\n",
    "#### Part A\n",
    "\n",
    "Create a scatter plot that shows the relationship between `'sugarpercent'` (on the horizontal x-axis) and `'winpercent'` (on the vertical y-axis).  _Don't add a regression line just yet -- you'll do that in the next step!_"
   ]
  },
  {
   "cell_type": "code",
   "execution_count": 8,
   "id": "129c7aee",
   "metadata": {
    "execution": {
     "iopub.execute_input": "2024-06-16T22:55:45.672198Z",
     "iopub.status.busy": "2024-06-16T22:55:45.671502Z",
     "iopub.status.idle": "2024-06-16T22:55:46.029966Z",
     "shell.execute_reply": "2024-06-16T22:55:46.028962Z"
    },
    "papermill": {
     "duration": 0.370078,
     "end_time": "2024-06-16T22:55:46.032246",
     "exception": false,
     "start_time": "2024-06-16T22:55:45.662168",
     "status": "completed"
    },
    "tags": []
   },
   "outputs": [
    {
     "data": {
      "application/javascript": [
       "parent.postMessage({\"jupyterEvent\": \"custom.exercise_interaction\", \"data\": {\"outcomeType\": 1, \"valueTowardsCompletion\": 0.3333333333333333, \"interactionType\": 1, \"questionType\": 2, \"questionId\": \"3.1_PlotBlueScatter\", \"learnToolsVersion\": \"0.3.4\", \"failureMessage\": \"\", \"exceptionClass\": \"\", \"trace\": \"\"}}, \"*\")"
      ],
      "text/plain": [
       "<IPython.core.display.Javascript object>"
      ]
     },
     "metadata": {},
     "output_type": "display_data"
    },
    {
     "data": {
      "text/markdown": [
       "<span style=\"color:#33cc33\">Correct</span>"
      ],
      "text/plain": [
       "Correct"
      ]
     },
     "metadata": {},
     "output_type": "display_data"
    },
    {
     "data": {
      "image/png": "[encoded data removed]",
      "text/plain": [
       "<Figure size 640x480 with 1 Axes>"
      ]
     },
     "metadata": {},
     "output_type": "display_data"
    }
   ],
   "source": [
    "# Scatter plot showing the relationship between 'sugarpercent' and 'winpercent'\n",
    "sns.scatterplot(x=candy_data['sugarpercent'], y=candy_data['winpercent'])\n",
    "# Check your answer\n",
    "step_3.a.check()"
   ]
  },
  {
   "cell_type": "code",
   "execution_count": 9,
   "id": "ff5c3596",
   "metadata": {
    "execution": {
     "iopub.execute_input": "2024-06-16T22:55:46.052106Z",
     "iopub.status.busy": "2024-06-16T22:55:46.051768Z",
     "iopub.status.idle": "2024-06-16T22:55:46.055629Z",
     "shell.execute_reply": "2024-06-16T22:55:46.054683Z"
    },
    "papermill": {
     "duration": 0.016051,
     "end_time": "2024-06-16T22:55:46.057579",
     "exception": false,
     "start_time": "2024-06-16T22:55:46.041528",
     "status": "completed"
    },
    "tags": []
   },
   "outputs": [],
   "source": [
    "# Lines below will give you a hint or solution code\n",
    "#step_3.a.hint()\n",
    "#step_3.a.solution_plot()"
   ]
  },
  {
   "cell_type": "markdown",
   "id": "e3dd4c2d",
   "metadata": {
    "papermill": {
     "duration": 0.008732,
     "end_time": "2024-06-16T22:55:46.075453",
     "exception": false,
     "start_time": "2024-06-16T22:55:46.066721",
     "status": "completed"
    },
    "tags": []
   },
   "source": [
    "#### Part B\n",
    "\n",
    "Does the scatter plot show a **strong** correlation between the two variables?  If so, are candies with more sugar relatively more or less popular with the survey respondents?"
   ]
  },
  {
   "cell_type": "code",
   "execution_count": 10,
   "id": "320ce943",
   "metadata": {
    "execution": {
     "iopub.execute_input": "2024-06-16T22:55:46.094805Z",
     "iopub.status.busy": "2024-06-16T22:55:46.094437Z",
     "iopub.status.idle": "2024-06-16T22:55:46.098616Z",
     "shell.execute_reply": "2024-06-16T22:55:46.097821Z"
    },
    "papermill": {
     "duration": 0.016189,
     "end_time": "2024-06-16T22:55:46.100602",
     "exception": false,
     "start_time": "2024-06-16T22:55:46.084413",
     "status": "completed"
    },
    "tags": []
   },
   "outputs": [],
   "source": [
    "#step_3.b.hint()"
   ]
  },
  {
   "cell_type": "code",
   "execution_count": 11,
   "id": "68d22e2c",
   "metadata": {
    "execution": {
     "iopub.execute_input": "2024-06-16T22:55:46.119755Z",
     "iopub.status.busy": "2024-06-16T22:55:46.119425Z",
     "iopub.status.idle": "2024-06-16T22:55:46.126935Z",
     "shell.execute_reply": "2024-06-16T22:55:46.126032Z"
    },
    "papermill": {
     "duration": 0.019314,
     "end_time": "2024-06-16T22:55:46.128969",
     "exception": false,
     "start_time": "2024-06-16T22:55:46.109655",
     "status": "completed"
    },
    "tags": []
   },
   "outputs": [
    {
     "data": {
      "application/javascript": [
       "parent.postMessage({\"jupyterEvent\": \"custom.exercise_interaction\", \"data\": {\"interactionType\": 3, \"questionType\": 4, \"questionId\": \"3.2_ThinkBlueScatter\", \"learnToolsVersion\": \"0.3.4\", \"valueTowardsCompletion\": 0.0, \"failureMessage\": \"\", \"exceptionClass\": \"\", \"trace\": \"\", \"outcomeType\": 4}}, \"*\")"
      ],
      "text/plain": [
       "<IPython.core.display.Javascript object>"
      ]
     },
     "metadata": {},
     "output_type": "display_data"
    },
    {
     "data": {
      "text/markdown": [
       "<span style=\"color:#33cc99\">Solution:</span> The scatter plot does not show a strong correlation between the two variables. Since there is no clear relationship between the two variables, this tells us that sugar content does not play a strong role in candy popularity."
      ],
      "text/plain": [
       "Solution: The scatter plot does not show a strong correlation between the two variables. Since there is no clear relationship between the two variables, this tells us that sugar content does not play a strong role in candy popularity."
      ]
     },
     "metadata": {},
     "output_type": "display_data"
    }
   ],
   "source": [
    "# Check your answer (Run this code cell to receive credit!)\n",
    "step_3.b.solution()"
   ]
  },
  {
   "cell_type": "markdown",
   "id": "66645f84",
   "metadata": {
    "papermill": {
     "duration": 0.009017,
     "end_time": "2024-06-16T22:55:46.147280",
     "exception": false,
     "start_time": "2024-06-16T22:55:46.138263",
     "status": "completed"
    },
    "tags": []
   },
   "source": [
    "## Step 4: Take a closer look\n",
    "\n",
    "#### Part A\n",
    "\n",
    "Create the same scatter plot you created in **Step 3**, but now with a regression line!"
   ]
  },
  {
   "cell_type": "code",
   "execution_count": 12,
   "id": "786d3cf0",
   "metadata": {
    "execution": {
     "iopub.execute_input": "2024-06-16T22:55:46.167228Z",
     "iopub.status.busy": "2024-06-16T22:55:46.166883Z",
     "iopub.status.idle": "2024-06-16T22:55:46.505164Z",
     "shell.execute_reply": "2024-06-16T22:55:46.504147Z"
    },
    "papermill": {
     "duration": 0.350929,
     "end_time": "2024-06-16T22:55:46.507409",
     "exception": false,
     "start_time": "2024-06-16T22:55:46.156480",
     "status": "completed"
    },
    "tags": []
   },
   "outputs": [
    {
     "data": {
      "application/javascript": [
       "parent.postMessage({\"jupyterEvent\": \"custom.exercise_interaction\", \"data\": {\"outcomeType\": 1, \"valueTowardsCompletion\": 0.3333333333333333, \"interactionType\": 1, \"questionType\": 2, \"questionId\": \"4.1_PlotBlueReg\", \"learnToolsVersion\": \"0.3.4\", \"failureMessage\": \"\", \"exceptionClass\": \"\", \"trace\": \"\"}}, \"*\")"
      ],
      "text/plain": [
       "<IPython.core.display.Javascript object>"
      ]
     },
     "metadata": {},
     "output_type": "display_data"
    },
    {
     "data": {
      "text/markdown": [
       "<span style=\"color:#33cc33\">Correct</span>"
      ],
      "text/plain": [
       "Correct"
      ]
     },
     "metadata": {},
     "output_type": "display_data"
    },
    {
     "data": {
      "image/png": "[encoded data removed]",
      "text/plain": [
       "<Figure size 640x480 with 1 Axes>"
      ]
     },
     "metadata": {},
     "output_type": "display_data"
    }
   ],
   "source": [
    "# Scatter plot w/ regression line showing the relationship between 'sugarpercent' and 'winpercent'\n",
    "sns.regplot(x=candy_data['sugarpercent'], y=candy_data['winpercent'])\n",
    "# Check your answer\n",
    "step_4.a.check()"
   ]
  },
  {
   "cell_type": "code",
   "execution_count": 13,
   "id": "640898e4",
   "metadata": {
    "execution": {
     "iopub.execute_input": "2024-06-16T22:55:46.529433Z",
     "iopub.status.busy": "2024-06-16T22:55:46.529073Z",
     "iopub.status.idle": "2024-06-16T22:55:46.533469Z",
     "shell.execute_reply": "2024-06-16T22:55:46.532466Z"
    },
    "papermill": {
     "duration": 0.017677,
     "end_time": "2024-06-16T22:55:46.535386",
     "exception": false,
     "start_time": "2024-06-16T22:55:46.517709",
     "status": "completed"
    },
    "tags": []
   },
   "outputs": [],
   "source": [
    "# Lines below will give you a hint or solution code\n",
    "#step_4.a.hint()\n",
    "#step_4.a.solution_plot()"
   ]
  },
  {
   "cell_type": "markdown",
   "id": "15829b47",
   "metadata": {
    "papermill": {
     "duration": 0.009697,
     "end_time": "2024-06-16T22:55:46.555361",
     "exception": false,
     "start_time": "2024-06-16T22:55:46.545664",
     "status": "completed"
    },
    "tags": []
   },
   "source": [
    "#### Part B\n",
    "\n",
    "According to the plot above, is there a **slight** correlation between `'winpercent'` and `'sugarpercent'`?  What does this tell you about the candy that people tend to prefer?"
   ]
  },
  {
   "cell_type": "code",
   "execution_count": 14,
   "id": "a03e8e76",
   "metadata": {
    "execution": {
     "iopub.execute_input": "2024-06-16T22:55:46.577130Z",
     "iopub.status.busy": "2024-06-16T22:55:46.576481Z",
     "iopub.status.idle": "2024-06-16T22:55:46.580667Z",
     "shell.execute_reply": "2024-06-16T22:55:46.579758Z"
    },
    "papermill": {
     "duration": 0.017281,
     "end_time": "2024-06-16T22:55:46.582709",
     "exception": false,
     "start_time": "2024-06-16T22:55:46.565428",
     "status": "completed"
    },
    "tags": []
   },
   "outputs": [],
   "source": [
    "#step_4.b.hint()"
   ]
  },
  {
   "cell_type": "code",
   "execution_count": 15,
   "id": "77d15458",
   "metadata": {
    "execution": {
     "iopub.execute_input": "2024-06-16T22:55:46.604406Z",
     "iopub.status.busy": "2024-06-16T22:55:46.603616Z",
     "iopub.status.idle": "2024-06-16T22:55:46.611000Z",
     "shell.execute_reply": "2024-06-16T22:55:46.610081Z"
    },
    "papermill": {
     "duration": 0.020246,
     "end_time": "2024-06-16T22:55:46.613066",
     "exception": false,
     "start_time": "2024-06-16T22:55:46.592820",
     "status": "completed"
    },
    "tags": []
   },
   "outputs": [
    {
     "data": {
      "application/javascript": [
       "parent.postMessage({\"jupyterEvent\": \"custom.exercise_interaction\", \"data\": {\"interactionType\": 3, \"questionType\": 4, \"questionId\": \"4.2_ThinkBlueReg\", \"learnToolsVersion\": \"0.3.4\", \"valueTowardsCompletion\": 0.0, \"failureMessage\": \"\", \"exceptionClass\": \"\", \"trace\": \"\", \"outcomeType\": 4}}, \"*\")"
      ],
      "text/plain": [
       "<IPython.core.display.Javascript object>"
      ]
     },
     "metadata": {},
     "output_type": "display_data"
    },
    {
     "data": {
      "text/markdown": [
       "<span style=\"color:#33cc99\">Solution:</span> Since the regression line has a slightly positive slope, this tells us that there is a slightly positive correlation between `'winpercent'` and `'sugarpercent'`. Thus, people have a slight preference for candies containing relatively more sugar."
      ],
      "text/plain": [
       "Solution: Since the regression line has a slightly positive slope, this tells us that there is a slightly positive correlation between `'winpercent'` and `'sugarpercent'`. Thus, people have a slight preference for candies containing relatively more sugar."
      ]
     },
     "metadata": {},
     "output_type": "display_data"
    }
   ],
   "source": [
    "# Check your answer (Run this code cell to receive credit!)\n",
    "step_4.b.solution()"
   ]
  },
  {
   "cell_type": "markdown",
   "id": "dbd371f6",
   "metadata": {
    "papermill": {
     "duration": 0.010114,
     "end_time": "2024-06-16T22:55:46.633499",
     "exception": false,
     "start_time": "2024-06-16T22:55:46.623385",
     "status": "completed"
    },
    "tags": []
   },
   "source": [
    "## Step 5: Chocolate!\n",
    "\n",
    "In the code cell below, create a scatter plot to show the relationship between `'pricepercent'` (on the horizontal x-axis) and `'winpercent'` (on the vertical y-axis). Use the `'chocolate'` column to color-code the points.  _Don't add any regression lines just yet -- you'll do that in the next step!_"
   ]
  },
  {
   "cell_type": "code",
   "execution_count": 16,
   "id": "9ce927d3",
   "metadata": {
    "execution": {
     "iopub.execute_input": "2024-06-16T22:55:46.656143Z",
     "iopub.status.busy": "2024-06-16T22:55:46.655214Z",
     "iopub.status.idle": "2024-06-16T22:55:46.980490Z",
     "shell.execute_reply": "2024-06-16T22:55:46.979515Z"
    },
    "papermill": {
     "duration": 0.339044,
     "end_time": "2024-06-16T22:55:46.982881",
     "exception": false,
     "start_time": "2024-06-16T22:55:46.643837",
     "status": "completed"
    },
    "tags": []
   },
   "outputs": [
    {
     "data": {
      "application/javascript": [
       "parent.postMessage({\"jupyterEvent\": \"custom.exercise_interaction\", \"data\": {\"outcomeType\": 1, \"valueTowardsCompletion\": 0.3333333333333333, \"interactionType\": 1, \"questionType\": 2, \"questionId\": \"5_ColorScatter\", \"learnToolsVersion\": \"0.3.4\", \"failureMessage\": \"\", \"exceptionClass\": \"\", \"trace\": \"\"}}, \"*\")"
      ],
      "text/plain": [
       "<IPython.core.display.Javascript object>"
      ]
     },
     "metadata": {},
     "output_type": "display_data"
    },
    {
     "data": {
      "text/markdown": [
       "<span style=\"color:#33cc33\">Correct</span>"
      ],
      "text/plain": [
       "Correct"
      ]
     },
     "metadata": {},
     "output_type": "display_data"
    },
    {
     "data": {
      "image/png": "[encoded data removed]",
      "text/plain": [
       "<Figure size 640x480 with 1 Axes>"
      ]
     },
     "metadata": {},
     "output_type": "display_data"
    }
   ],
   "source": [
    "# Scatter plot showing the relationship between 'pricepercent', 'winpercent', and 'chocolate'\n",
    "sns.scatterplot(x=candy_data['pricepercent'],y=candy_data['winpercent'], hue=candy_data['chocolate'])\n",
    "# Check your answer\n",
    "step_5.check()"
   ]
  },
  {
   "cell_type": "code",
   "execution_count": 17,
   "id": "78da88fd",
   "metadata": {
    "execution": {
     "iopub.execute_input": "2024-06-16T22:55:47.007348Z",
     "iopub.status.busy": "2024-06-16T22:55:47.006550Z",
     "iopub.status.idle": "2024-06-16T22:55:47.010703Z",
     "shell.execute_reply": "2024-06-16T22:55:47.009772Z"
    },
    "papermill": {
     "duration": 0.01852,
     "end_time": "2024-06-16T22:55:47.012770",
     "exception": false,
     "start_time": "2024-06-16T22:55:46.994250",
     "status": "completed"
    },
    "tags": []
   },
   "outputs": [],
   "source": [
    "# Lines below will give you a hint or solution code\n",
    "#step_5.hint()\n",
    "#step_5.solution_plot()"
   ]
  },
  {
   "cell_type": "markdown",
   "id": "725c75aa",
   "metadata": {
    "papermill": {
     "duration": 0.010905,
     "end_time": "2024-06-16T22:55:47.034734",
     "exception": false,
     "start_time": "2024-06-16T22:55:47.023829",
     "status": "completed"
    },
    "tags": []
   },
   "source": [
    "Can you see any interesting patterns in the scatter plot?  We'll investigate this plot further  by adding regression lines in the next step!\n",
    "\n",
    "## Step 6: Investigate chocolate\n",
    "\n",
    "#### Part A\n",
    "\n",
    "Create the same scatter plot you created in **Step 5**, but now with two regression lines, corresponding to (1) chocolate candies and (2) candies without chocolate."
   ]
  },
  {
   "cell_type": "code",
   "execution_count": 18,
   "id": "f9ee83fa",
   "metadata": {
    "execution": {
     "iopub.execute_input": "2024-06-16T22:55:47.058945Z",
     "iopub.status.busy": "2024-06-16T22:55:47.058114Z",
     "iopub.status.idle": "2024-06-16T22:55:47.692302Z",
     "shell.execute_reply": "2024-06-16T22:55:47.691347Z"
    },
    "papermill": {
     "duration": 0.648701,
     "end_time": "2024-06-16T22:55:47.694610",
     "exception": false,
     "start_time": "2024-06-16T22:55:47.045909",
     "status": "completed"
    },
    "tags": []
   },
   "outputs": [
    {
     "data": {
      "application/javascript": [
       "parent.postMessage({\"jupyterEvent\": \"custom.exercise_interaction\", \"data\": {\"outcomeType\": 1, \"valueTowardsCompletion\": 0.3333333333333333, \"interactionType\": 1, \"questionType\": 2, \"questionId\": \"6.1_PlotColorReg\", \"learnToolsVersion\": \"0.3.4\", \"failureMessage\": \"\", \"exceptionClass\": \"\", \"trace\": \"\"}}, \"*\")"
      ],
      "text/plain": [
       "<IPython.core.display.Javascript object>"
      ]
     },
     "metadata": {},
     "output_type": "display_data"
    },
    {
     "data": {
      "text/markdown": [
       "<span style=\"color:#33cc33\">Correct</span>"
      ],
      "text/plain": [
       "Correct"
      ]
     },
     "metadata": {},
     "output_type": "display_data"
    },
    {
     "data": {
      "image/png": "[encoded data removed]",
      "text/plain": [
       "<Figure size 578.611x500 with 1 Axes>"
      ]
     },
     "metadata": {},
     "output_type": "display_data"
    }
   ],
   "source": [
    "# Color-coded scatter plot w/ regression lines\n",
    "sns.lmplot(candy_data, x='pricepercent', y='winpercent', hue='chocolate')\n",
    "# Check your answer\n",
    "step_6.a.check()"
   ]
  },
  {
   "cell_type": "code",
   "execution_count": 19,
   "id": "9665b112",
   "metadata": {
    "execution": {
     "iopub.execute_input": "2024-06-16T22:55:47.720139Z",
     "iopub.status.busy": "2024-06-16T22:55:47.719795Z",
     "iopub.status.idle": "2024-06-16T22:55:47.723739Z",
     "shell.execute_reply": "2024-06-16T22:55:47.722771Z"
    },
    "papermill": {
     "duration": 0.018801,
     "end_time": "2024-06-16T22:55:47.725627",
     "exception": false,
     "start_time": "2024-06-16T22:55:47.706826",
     "status": "completed"
    },
    "tags": []
   },
   "outputs": [],
   "source": [
    "# Lines below will give you a hint or solution code\n",
    "#step_6.a.hint()\n",
    "#step_6.a.solution_plot()"
   ]
  },
  {
   "cell_type": "markdown",
   "id": "7820a7e4",
   "metadata": {
    "papermill": {
     "duration": 0.011736,
     "end_time": "2024-06-16T22:55:47.749397",
     "exception": false,
     "start_time": "2024-06-16T22:55:47.737661",
     "status": "completed"
    },
    "tags": []
   },
   "source": [
    "#### Part B\n",
    "\n",
    "Using the regression lines, what conclusions can you draw about the effects of chocolate and price on candy popularity?"
   ]
  },
  {
   "cell_type": "code",
   "execution_count": 20,
   "id": "7f8b775a",
   "metadata": {
    "execution": {
     "iopub.execute_input": "2024-06-16T22:55:47.775407Z",
     "iopub.status.busy": "2024-06-16T22:55:47.774657Z",
     "iopub.status.idle": "2024-06-16T22:55:47.778779Z",
     "shell.execute_reply": "2024-06-16T22:55:47.777854Z"
    },
    "papermill": {
     "duration": 0.01935,
     "end_time": "2024-06-16T22:55:47.780716",
     "exception": false,
     "start_time": "2024-06-16T22:55:47.761366",
     "status": "completed"
    },
    "tags": []
   },
   "outputs": [],
   "source": [
    "#step_6.b.hint()"
   ]
  },
  {
   "cell_type": "code",
   "execution_count": 21,
   "id": "1dabf367",
   "metadata": {
    "execution": {
     "iopub.execute_input": "2024-06-16T22:55:47.807250Z",
     "iopub.status.busy": "2024-06-16T22:55:47.806929Z",
     "iopub.status.idle": "2024-06-16T22:55:47.814558Z",
     "shell.execute_reply": "2024-06-16T22:55:47.813675Z"
    },
    "papermill": {
     "duration": 0.023867,
     "end_time": "2024-06-16T22:55:47.816584",
     "exception": false,
     "start_time": "2024-06-16T22:55:47.792717",
     "status": "completed"
    },
    "tags": []
   },
   "outputs": [
    {
     "data": {
      "application/javascript": [
       "parent.postMessage({\"jupyterEvent\": \"custom.exercise_interaction\", \"data\": {\"interactionType\": 3, \"questionType\": 4, \"questionId\": \"6.2_ThinkColorReg\", \"learnToolsVersion\": \"0.3.4\", \"valueTowardsCompletion\": 0.0, \"failureMessage\": \"\", \"exceptionClass\": \"\", \"trace\": \"\", \"outcomeType\": 4}}, \"*\")"
      ],
      "text/plain": [
       "<IPython.core.display.Javascript object>"
      ]
     },
     "metadata": {},
     "output_type": "display_data"
    },
    {
     "data": {
      "text/markdown": [
       "<span style=\"color:#33cc99\">Solution:</span> We'll begin with the regression line for chocolate candies. Since this line has a slightly positive slope, we can say that more expensive chocolate candies tend to be more popular (than relatively cheaper chocolate candies).  Likewise, since the regression line for candies without chocolate has a negative slope, we can say that if candies don't contain chocolate, they tend to be more popular when they are cheaper.  One important note, however, is that the dataset is quite small -- so we shouldn't invest too much trust in these patterns!  To inspire more confidence in the results, we should add more candies to the dataset."
      ],
      "text/plain": [
       "Solution: We'll begin with the regression line for chocolate candies. Since this line has a slightly positive slope, we can say that more expensive chocolate candies tend to be more popular (than relatively cheaper chocolate candies).  Likewise, since the regression line for candies without chocolate has a negative slope, we can say that if candies don't contain chocolate, they tend to be more popular when they are cheaper.  One important note, however, is that the dataset is quite small -- so we shouldn't invest too much trust in these patterns!  To inspire more confidence in the results, we should add more candies to the dataset."
      ]
     },
     "metadata": {},
     "output_type": "display_data"
    }
   ],
   "source": [
    "# Check your answer (Run this code cell to receive credit!)\n",
    "step_6.b.solution()"
   ]
  },
  {
   "cell_type": "markdown",
   "id": "85107d26",
   "metadata": {
    "papermill": {
     "duration": 0.011976,
     "end_time": "2024-06-16T22:55:47.840952",
     "exception": false,
     "start_time": "2024-06-16T22:55:47.828976",
     "status": "completed"
    },
    "tags": []
   },
   "source": [
    "## Step 7: Everybody loves chocolate.\n",
    "\n",
    "#### Part A\n",
    "\n",
    "Create a categorical scatter plot to highlight the relationship between `'chocolate'` and `'winpercent'`.  Put `'chocolate'` on the (horizontal) x-axis, and `'winpercent'` on the (vertical) y-axis."
   ]
  },
  {
   "cell_type": "code",
   "execution_count": 22,
   "id": "3815e5c5",
   "metadata": {
    "execution": {
     "iopub.execute_input": "2024-06-16T22:55:47.867275Z",
     "iopub.status.busy": "2024-06-16T22:55:47.866601Z",
     "iopub.status.idle": "2024-06-16T22:55:48.222253Z",
     "shell.execute_reply": "2024-06-16T22:55:48.221076Z"
    },
    "papermill": {
     "duration": 0.371939,
     "end_time": "2024-06-16T22:55:48.225164",
     "exception": false,
     "start_time": "2024-06-16T22:55:47.853225",
     "status": "completed"
    },
    "tags": []
   },
   "outputs": [
    {
     "data": {
      "application/javascript": [
       "parent.postMessage({\"jupyterEvent\": \"custom.exercise_interaction\", \"data\": {\"outcomeType\": 1, \"valueTowardsCompletion\": 0.3333333333333333, \"interactionType\": 1, \"questionType\": 2, \"questionId\": \"7.1_PlotSwarm\", \"learnToolsVersion\": \"0.3.4\", \"failureMessage\": \"\", \"exceptionClass\": \"\", \"trace\": \"\"}}, \"*\")"
      ],
      "text/plain": [
       "<IPython.core.display.Javascript object>"
      ]
     },
     "metadata": {},
     "output_type": "display_data"
    },
    {
     "data": {
      "text/markdown": [
       "<span style=\"color:#33cc33\">Correct</span>"
      ],
      "text/plain": [
       "Correct"
      ]
     },
     "metadata": {},
     "output_type": "display_data"
    },
    {
     "data": {
      "image/png": "[encoded data removed]",
      "text/plain": [
       "<Figure size 640x480 with 1 Axes>"
      ]
     },
     "metadata": {},
     "output_type": "display_data"
    }
   ],
   "source": [
    "# Scatter plot showing the relationship between 'chocolate' and 'winpercent'\n",
    "sns.swarmplot(candy_data, x='chocolate', y='winpercent')\n",
    "# Check your answer\n",
    "step_7.a.check()"
   ]
  },
  {
   "cell_type": "code",
   "execution_count": 23,
   "id": "1f7385bf",
   "metadata": {
    "execution": {
     "iopub.execute_input": "2024-06-16T22:55:48.320850Z",
     "iopub.status.busy": "2024-06-16T22:55:48.320459Z",
     "iopub.status.idle": "2024-06-16T22:55:48.324903Z",
     "shell.execute_reply": "2024-06-16T22:55:48.323929Z"
    },
    "papermill": {
     "duration": 0.079575,
     "end_time": "2024-06-16T22:55:48.326932",
     "exception": false,
     "start_time": "2024-06-16T22:55:48.247357",
     "status": "completed"
    },
    "tags": []
   },
   "outputs": [],
   "source": [
    "# Lines below will give you a hint or solution code\n",
    "#step_7.a.hint()\n",
    "#step_7.a.solution_plot()"
   ]
  },
  {
   "cell_type": "markdown",
   "id": "5f25c2ec",
   "metadata": {
    "papermill": {
     "duration": 0.013805,
     "end_time": "2024-06-16T22:55:48.354117",
     "exception": false,
     "start_time": "2024-06-16T22:55:48.340312",
     "status": "completed"
    },
    "tags": []
   },
   "source": [
    "#### Part B\n",
    "\n",
    "You decide to dedicate a section of your report to the fact that chocolate candies tend to be more popular than candies without chocolate.  Which plot is more appropriate to tell this story: the plot from **Step 6**, or the plot from **Step 7**?"
   ]
  },
  {
   "cell_type": "code",
   "execution_count": 24,
   "id": "7dc4a021",
   "metadata": {
    "execution": {
     "iopub.execute_input": "2024-06-16T22:55:48.381774Z",
     "iopub.status.busy": "2024-06-16T22:55:48.381402Z",
     "iopub.status.idle": "2024-06-16T22:55:48.385630Z",
     "shell.execute_reply": "2024-06-16T22:55:48.384724Z"
    },
    "papermill": {
     "duration": 0.020466,
     "end_time": "2024-06-16T22:55:48.387744",
     "exception": false,
     "start_time": "2024-06-16T22:55:48.367278",
     "status": "completed"
    },
    "tags": []
   },
   "outputs": [],
   "source": [
    "#step_7.b.hint()"
   ]
  },
  {
   "cell_type": "code",
   "execution_count": 25,
   "id": "45a27029",
   "metadata": {
    "execution": {
     "iopub.execute_input": "2024-06-16T22:55:48.415410Z",
     "iopub.status.busy": "2024-06-16T22:55:48.415053Z",
     "iopub.status.idle": "2024-06-16T22:55:48.422578Z",
     "shell.execute_reply": "2024-06-16T22:55:48.421681Z"
    },
    "papermill": {
     "duration": 0.02368,
     "end_time": "2024-06-16T22:55:48.424549",
     "exception": false,
     "start_time": "2024-06-16T22:55:48.400869",
     "status": "completed"
    },
    "tags": []
   },
   "outputs": [
    {
     "data": {
      "application/javascript": [
       "parent.postMessage({\"jupyterEvent\": \"custom.exercise_interaction\", \"data\": {\"interactionType\": 3, \"questionType\": 4, \"questionId\": \"7.2_ThinkSwarm\", \"learnToolsVersion\": \"0.3.4\", \"valueTowardsCompletion\": 0.0, \"failureMessage\": \"\", \"exceptionClass\": \"\", \"trace\": \"\", \"outcomeType\": 4}}, \"*\")"
      ],
      "text/plain": [
       "<IPython.core.display.Javascript object>"
      ]
     },
     "metadata": {},
     "output_type": "display_data"
    },
    {
     "data": {
      "text/markdown": [
       "<span style=\"color:#33cc99\">Solution:</span> In this case, the categorical scatter plot from **Step 7** is the more appropriate plot. While both plots tell the desired story, the plot from **Step 6** conveys far more information that could distract from the main point."
      ],
      "text/plain": [
       "Solution: In this case, the categorical scatter plot from **Step 7** is the more appropriate plot. While both plots tell the desired story, the plot from **Step 6** conveys far more information that could distract from the main point."
      ]
     },
     "metadata": {},
     "output_type": "display_data"
    }
   ],
   "source": [
    "# Check your answer (Run this code cell to receive credit!)\n",
    "step_7.b.solution()"
   ]
  },
  {
   "cell_type": "markdown",
   "id": "7f6f5c67",
   "metadata": {
    "papermill": {
     "duration": 0.012841,
     "end_time": "2024-06-16T22:55:48.450557",
     "exception": false,
     "start_time": "2024-06-16T22:55:48.437716",
     "status": "completed"
    },
    "tags": []
   },
   "source": [
    "## Keep going\n",
    "\n",
    "Explore **[histograms and density plots](https://www.kaggle.com/alexisbcook/distributions)**."
   ]
  },
  {
   "cell_type": "markdown",
   "id": "85c055d5",
   "metadata": {
    "papermill": {
     "duration": 0.012871,
     "end_time": "2024-06-16T22:55:48.476619",
     "exception": false,
     "start_time": "2024-06-16T22:55:48.463748",
     "status": "completed"
    },
    "tags": []
   },
   "source": [
    "---\n",
    "\n",
    "\n",
    "\n",
    "\n",
    "*Have questions or comments? Visit the [course discussion forum](https://www.kaggle.com/learn/data-visualization/discussion) to chat with other learners.*"
   ]
  }
 ],
 "metadata": {
  "kaggle": {
   "accelerator": "none",
   "dataSources": [
    {
     "datasetId": 116573,
     "sourceId": 3551030,
     "sourceType": "datasetVersion"
    }
   ],
   "isGpuEnabled": false,
   "isInternetEnabled": false,
   "language": "python",
   "sourceType": "notebook"
  },
  "kernelspec": {
   "display_name": "Python 3",
   "language": "python",
   "name": "python3"
  },
  "language_info": {
   "codemirror_mode": {
    "name": "ipython",
    "version": 3
   },
   "file_extension": ".py",
   "mimetype": "text/x-python",
   "name": "python",
   "nbconvert_exporter": "python",
   "pygments_lexer": "ipython3",
   "version": "3.10.13"
  },
  "papermill": {
   "default_parameters": {},
   "duration": 8.176359,
   "end_time": "2024-06-16T22:55:49.008970",
   "environment_variables": {},
   "exception": null,
   "input_path": "__notebook__.ipynb",
   "output_path": "__notebook__.ipynb",
   "parameters": {},
   "start_time": "2024-06-16T22:55:40.832611",
   "version": "2.5.0"
  }
 },
 "nbformat": 4,
 "nbformat_minor": 5
}
